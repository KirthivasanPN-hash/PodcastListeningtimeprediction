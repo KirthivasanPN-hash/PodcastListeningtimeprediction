{
  "nbformat": 4,
  "nbformat_minor": 0,
  "metadata": {
    "colab": {
      "provenance": [],
      "authorship_tag": "ABX9TyMxWxuM/miWjcrTbu6fYB7h",
      "include_colab_link": true
    },
    "kernelspec": {
      "name": "python3",
      "display_name": "Python 3"
    },
    "language_info": {
      "name": "python"
    }
  },
  "cells": [
    {
      "cell_type": "markdown",
      "metadata": {
        "id": "view-in-github",
        "colab_type": "text"
      },
      "source": [
        "<a href=\"https://colab.research.google.com/github/KirthivasanPN-hash/PodcastListeningtimeprediction/blob/main/PodcastListeningTime_prediction.ipynb\" target=\"_parent\"><img src=\"https://colab.research.google.com/assets/colab-badge.svg\" alt=\"Open In Colab\"/></a>"
      ]
    },
    {
      "cell_type": "markdown",
      "source": [],
      "metadata": {
        "id": "7joltoXQ4z3F"
      }
    },
    {
      "cell_type": "code",
      "source": [
        "from google.colab import drive\n",
        "drive.mount('/content/drive')"
      ],
      "metadata": {
        "colab": {
          "base_uri": "https://localhost:8080/"
        },
        "id": "7vhjkM0_HzPW",
        "outputId": "cee99fd6-8cc8-414c-a22f-3031ac191796"
      },
      "execution_count": 1,
      "outputs": [
        {
          "output_type": "stream",
          "name": "stdout",
          "text": [
            "Mounted at /content/drive\n"
          ]
        }
      ]
    },
    {
      "cell_type": "code",
      "source": [
        "base =  \"/content/drive/MyDrive/dataset/Podcast_predict\""
      ],
      "metadata": {
        "id": "UT4OD_PUH99-"
      },
      "execution_count": 2,
      "outputs": []
    },
    {
      "cell_type": "code",
      "source": [
        "!pip install  polars"
      ],
      "metadata": {
        "colab": {
          "base_uri": "https://localhost:8080/"
        },
        "id": "EvgK2JAoOGsn",
        "outputId": "c3a32bfe-4794-4b18-dedb-8590363c7788"
      },
      "execution_count": null,
      "outputs": [
        {
          "output_type": "stream",
          "name": "stdout",
          "text": [
            "Requirement already satisfied: polars in /usr/local/lib/python3.11/dist-packages (1.21.0)\n"
          ]
        }
      ]
    },
    {
      "cell_type": "code",
      "source": [
        "import numpy\n",
        "import polars as pl\n",
        "\n",
        "import polars.selectors as cs\n",
        "\n",
        "train_df = pl.read_csv(f\"{base}/train.csv\")\n",
        "test_df = pl.read_csv(f\"{base}/test.csv\")"
      ],
      "metadata": {
        "id": "yNfKsZ4VJhAY"
      },
      "execution_count": 3,
      "outputs": []
    },
    {
      "cell_type": "code",
      "source": [
        "train_df.select(cs.numeric()).describe().transpose(include_header=True)"
      ],
      "metadata": {
        "colab": {
          "base_uri": "https://localhost:8080/",
          "height": 318
        },
        "id": "L1VUbVYxNt9s",
        "outputId": "138eb0f3-a103-416b-cf66-383560134d5f"
      },
      "execution_count": 4,
      "outputs": [
        {
          "output_type": "execute_result",
          "data": {
            "text/plain": [
              "shape: (7, 10)\n",
              "┌─────────────┬──────────┬────────────┬────────────┬───┬──────────┬──────────┬──────────┬──────────┐\n",
              "│ column      ┆ column_0 ┆ column_1   ┆ column_2   ┆ … ┆ column_5 ┆ column_6 ┆ column_7 ┆ column_8 │\n",
              "│ ---         ┆ ---      ┆ ---        ┆ ---        ┆   ┆ ---      ┆ ---      ┆ ---      ┆ ---      │\n",
              "│ str         ┆ str      ┆ str        ┆ str        ┆   ┆ str      ┆ str      ┆ str      ┆ str      │\n",
              "╞═════════════╪══════════╪════════════╪════════════╪═══╪══════════╪══════════╪══════════╪══════════╡\n",
              "│ statistic   ┆ count    ┆ null_count ┆ mean       ┆ … ┆ 25%      ┆ 50%      ┆ 75%      ┆ max      │\n",
              "│ id          ┆ 750000.0 ┆ 0.0        ┆ 374999.5   ┆ … ┆ 187500.0 ┆ 375000.0 ┆ 562499.0 ┆ 749999.0 │\n",
              "│ Episode_Len ┆ 662907.0 ┆ 87093.0    ┆ 64.5047383 ┆ … ┆ 35.73    ┆ 63.84    ┆ 94.07    ┆ 325.24   │\n",
              "│ gth_minutes ┆          ┆            ┆ 5100325    ┆   ┆          ┆          ┆          ┆          │\n",
              "│ Host_Popula ┆ 750000.0 ┆ 0.0        ┆ 59.8599007 ┆ … ┆ 39.41    ┆ 60.05    ┆ 79.53    ┆ 119.46   │\n",
              "│ rity_percen ┆          ┆            ┆ 539        ┆   ┆          ┆          ┆          ┆          │\n",
              "│ tage        ┆          ┆            ┆            ┆   ┆          ┆          ┆          ┆          │\n",
              "│ Guest_Popul ┆ 603970.0 ┆ 146030.0   ┆ 52.2364489 ┆ … ┆ 28.38    ┆ 53.58    ┆ 76.6     ┆ 119.91   │\n",
              "│ arity_perce ┆          ┆            ┆ 3379306    ┆   ┆          ┆          ┆          ┆          │\n",
              "│ ntage       ┆          ┆            ┆            ┆   ┆          ┆          ┆          ┆          │\n",
              "│ Number_of_A ┆ 749999.0 ┆ 1.0        ┆ 1.34885490 ┆ … ┆ 0.0      ┆ 1.0      ┆ 2.0      ┆ 103.91   │\n",
              "│ ds          ┆          ┆            ┆ 51398737   ┆   ┆          ┆          ┆          ┆          │\n",
              "│ Listening_T ┆ 750000.0 ┆ 0.0        ┆ 45.4374062 ┆ … ┆ 23.17835 ┆ 43.37946 ┆ 64.81158 ┆ 119.97   │\n",
              "│ ime_minutes ┆          ┆            ┆ 8813333    ┆   ┆          ┆          ┆          ┆          │\n",
              "└─────────────┴──────────┴────────────┴────────────┴───┴──────────┴──────────┴──────────┴──────────┘"
            ],
            "text/html": [
              "<div><style>\n",
              ".dataframe > thead > tr,\n",
              ".dataframe > tbody > tr {\n",
              "  text-align: right;\n",
              "  white-space: pre-wrap;\n",
              "}\n",
              "</style>\n",
              "<small>shape: (7, 10)</small><table border=\"1\" class=\"dataframe\"><thead><tr><th>column</th><th>column_0</th><th>column_1</th><th>column_2</th><th>column_3</th><th>column_4</th><th>column_5</th><th>column_6</th><th>column_7</th><th>column_8</th></tr><tr><td>str</td><td>str</td><td>str</td><td>str</td><td>str</td><td>str</td><td>str</td><td>str</td><td>str</td><td>str</td></tr></thead><tbody><tr><td>&quot;statistic&quot;</td><td>&quot;count&quot;</td><td>&quot;null_count&quot;</td><td>&quot;mean&quot;</td><td>&quot;std&quot;</td><td>&quot;min&quot;</td><td>&quot;25%&quot;</td><td>&quot;50%&quot;</td><td>&quot;75%&quot;</td><td>&quot;max&quot;</td></tr><tr><td>&quot;id&quot;</td><td>&quot;750000.0&quot;</td><td>&quot;0.0&quot;</td><td>&quot;374999.5&quot;</td><td>&quot;216506.49528362884&quot;</td><td>&quot;0.0&quot;</td><td>&quot;187500.0&quot;</td><td>&quot;375000.0&quot;</td><td>&quot;562499.0&quot;</td><td>&quot;749999.0&quot;</td></tr><tr><td>&quot;Episode_Length_minutes&quot;</td><td>&quot;662907.0&quot;</td><td>&quot;87093.0&quot;</td><td>&quot;64.50473835100325&quot;</td><td>&quot;32.96960339564962&quot;</td><td>&quot;0.0&quot;</td><td>&quot;35.73&quot;</td><td>&quot;63.84&quot;</td><td>&quot;94.07&quot;</td><td>&quot;325.24&quot;</td></tr><tr><td>&quot;Host_Popularity_percentage&quot;</td><td>&quot;750000.0&quot;</td><td>&quot;0.0&quot;</td><td>&quot;59.8599007539&quot;</td><td>&quot;22.873097528069952&quot;</td><td>&quot;1.3&quot;</td><td>&quot;39.41&quot;</td><td>&quot;60.05&quot;</td><td>&quot;79.53&quot;</td><td>&quot;119.46&quot;</td></tr><tr><td>&quot;Guest_Popularity_percentage&quot;</td><td>&quot;603970.0&quot;</td><td>&quot;146030.0&quot;</td><td>&quot;52.23644893379306&quot;</td><td>&quot;28.451241399436555&quot;</td><td>&quot;0.0&quot;</td><td>&quot;28.38&quot;</td><td>&quot;53.58&quot;</td><td>&quot;76.6&quot;</td><td>&quot;119.91&quot;</td></tr><tr><td>&quot;Number_of_Ads&quot;</td><td>&quot;749999.0&quot;</td><td>&quot;1.0&quot;</td><td>&quot;1.3488549051398737&quot;</td><td>&quot;1.15113039317707&quot;</td><td>&quot;0.0&quot;</td><td>&quot;0.0&quot;</td><td>&quot;1.0&quot;</td><td>&quot;2.0&quot;</td><td>&quot;103.91&quot;</td></tr><tr><td>&quot;Listening_Time_minutes&quot;</td><td>&quot;750000.0&quot;</td><td>&quot;0.0&quot;</td><td>&quot;45.43740628813333&quot;</td><td>&quot;27.13830582797124&quot;</td><td>&quot;0.0&quot;</td><td>&quot;23.17835&quot;</td><td>&quot;43.37946&quot;</td><td>&quot;64.81158&quot;</td><td>&quot;119.97&quot;</td></tr></tbody></table></div>"
            ]
          },
          "metadata": {},
          "execution_count": 4
        }
      ]
    },
    {
      "cell_type": "code",
      "source": [
        "train_df.columns"
      ],
      "metadata": {
        "colab": {
          "base_uri": "https://localhost:8080/"
        },
        "id": "1gkzdmhoOSZK",
        "outputId": "8ab6260a-5d92-4744-bad1-f0130f86f7fd"
      },
      "execution_count": null,
      "outputs": [
        {
          "output_type": "execute_result",
          "data": {
            "text/plain": [
              "['id',\n",
              " 'Podcast_Name',\n",
              " 'Episode_Title',\n",
              " 'Episode_Length_minutes',\n",
              " 'Genre',\n",
              " 'Host_Popularity_percentage',\n",
              " 'Publication_Day',\n",
              " 'Publication_Time',\n",
              " 'Guest_Popularity_percentage',\n",
              " 'Number_of_Ads',\n",
              " 'Episode_Sentiment',\n",
              " 'Listening_Time_minutes']"
            ]
          },
          "metadata": {},
          "execution_count": 9
        }
      ]
    },
    {
      "cell_type": "markdown",
      "source": [
        " Preparing data for modeling or imputation by combining training and test sets"
      ],
      "metadata": {
        "id": "are-j53NQ9_F"
      }
    },
    {
      "cell_type": "code",
      "source": [
        "train_df_mark = train_df.with_columns(pl.lit(1).alias(\"is_train\")).drop([\"Listening_Time_minutes\"])"
      ],
      "metadata": {
        "id": "oR_i38YDOs1l"
      },
      "execution_count": null,
      "outputs": []
    },
    {
      "cell_type": "code",
      "source": [
        "test_df_mark = test_df.with_columns(pl.lit(0).alias(\"is_train\"))"
      ],
      "metadata": {
        "id": "UFDLcwcMRxpO"
      },
      "execution_count": null,
      "outputs": []
    },
    {
      "cell_type": "code",
      "source": [
        "pl.concat([train_df_mark, test_df_mark], how = \"vertical\")"
      ],
      "metadata": {
        "colab": {
          "base_uri": "https://localhost:8080/",
          "height": 567
        },
        "id": "0SjCLaGlSQQ0",
        "outputId": "b49d4d05-2e97-4be7-910e-7290d9c66714"
      },
      "execution_count": null,
      "outputs": [
        {
          "output_type": "execute_result",
          "data": {
            "text/plain": [
              "shape: (1_000_000, 12)\n",
              "┌────────┬────────────┬────────────┬────────────┬───┬───────────┬───────────┬───────────┬──────────┐\n",
              "│ id     ┆ Podcast_Na ┆ Episode_Ti ┆ Episode_Le ┆ … ┆ Guest_Pop ┆ Number_of ┆ Episode_S ┆ is_train │\n",
              "│ ---    ┆ me         ┆ tle        ┆ ngth_minut ┆   ┆ ularity_p ┆ _Ads      ┆ entiment  ┆ ---      │\n",
              "│ i64    ┆ ---        ┆ ---        ┆ es         ┆   ┆ ercentage ┆ ---       ┆ ---       ┆ i32      │\n",
              "│        ┆ str        ┆ str        ┆ ---        ┆   ┆ ---       ┆ f64       ┆ str       ┆          │\n",
              "│        ┆            ┆            ┆ f64        ┆   ┆ f64       ┆           ┆           ┆          │\n",
              "╞════════╪════════════╪════════════╪════════════╪═══╪═══════════╪═══════════╪═══════════╪══════════╡\n",
              "│ 0      ┆ Mystery    ┆ Episode 98 ┆ null       ┆ … ┆ null      ┆ 0.0       ┆ Positive  ┆ 1        │\n",
              "│        ┆ Matters    ┆            ┆            ┆   ┆           ┆           ┆           ┆          │\n",
              "│ 1      ┆ Joke       ┆ Episode 26 ┆ 119.8      ┆ … ┆ 75.95     ┆ 2.0       ┆ Negative  ┆ 1        │\n",
              "│        ┆ Junction   ┆            ┆            ┆   ┆           ┆           ┆           ┆          │\n",
              "│ 2      ┆ Study      ┆ Episode 16 ┆ 73.9       ┆ … ┆ 8.97      ┆ 0.0       ┆ Negative  ┆ 1        │\n",
              "│        ┆ Sessions   ┆            ┆            ┆   ┆           ┆           ┆           ┆          │\n",
              "│ 3      ┆ Digital    ┆ Episode 45 ┆ 67.17      ┆ … ┆ 78.7      ┆ 2.0       ┆ Positive  ┆ 1        │\n",
              "│        ┆ Digest     ┆            ┆            ┆   ┆           ┆           ┆           ┆          │\n",
              "│ 4      ┆ Mind &     ┆ Episode 86 ┆ 110.51     ┆ … ┆ 58.68     ┆ 3.0       ┆ Neutral   ┆ 1        │\n",
              "│        ┆ Body       ┆            ┆            ┆   ┆           ┆           ┆           ┆          │\n",
              "│ …      ┆ …          ┆ …          ┆ …          ┆ … ┆ …         ┆ …         ┆ …         ┆ …        │\n",
              "│ 999995 ┆ Mind &     ┆ Episode    ┆ 21.05      ┆ … ┆ 96.4      ┆ 3.0       ┆ Negative  ┆ 0        │\n",
              "│        ┆ Body       ┆ 100        ┆            ┆   ┆           ┆           ┆           ┆          │\n",
              "│ 999996 ┆ Joke       ┆ Episode 85 ┆ 85.5       ┆ … ┆ 30.52     ┆ 2.0       ┆ Negative  ┆ 0        │\n",
              "│        ┆ Junction   ┆            ┆            ┆   ┆           ┆           ┆           ┆          │\n",
              "│ 999997 ┆ Joke       ┆ Episode 63 ┆ 12.11      ┆ … ┆ 73.69     ┆ 1.0       ┆ Neutral   ┆ 0        │\n",
              "│        ┆ Junction   ┆            ┆            ┆   ┆           ┆           ┆           ┆          │\n",
              "│ 999998 ┆ Market     ┆ Episode 46 ┆ 113.46     ┆ … ┆ 93.59     ┆ 3.0       ┆ Positive  ┆ 0        │\n",
              "│        ┆ Masters    ┆            ┆            ┆   ┆           ┆           ┆           ┆          │\n",
              "│ 999999 ┆ Brain      ┆ Episode 46 ┆ 78.05      ┆ … ┆ 50.77     ┆ 0.0       ┆ Negative  ┆ 0        │\n",
              "│        ┆ Boost      ┆            ┆            ┆   ┆           ┆           ┆           ┆          │\n",
              "└────────┴────────────┴────────────┴────────────┴───┴───────────┴───────────┴───────────┴──────────┘"
            ],
            "text/html": [
              "<div><style>\n",
              ".dataframe > thead > tr,\n",
              ".dataframe > tbody > tr {\n",
              "  text-align: right;\n",
              "  white-space: pre-wrap;\n",
              "}\n",
              "</style>\n",
              "<small>shape: (1_000_000, 12)</small><table border=\"1\" class=\"dataframe\"><thead><tr><th>id</th><th>Podcast_Name</th><th>Episode_Title</th><th>Episode_Length_minutes</th><th>Genre</th><th>Host_Popularity_percentage</th><th>Publication_Day</th><th>Publication_Time</th><th>Guest_Popularity_percentage</th><th>Number_of_Ads</th><th>Episode_Sentiment</th><th>is_train</th></tr><tr><td>i64</td><td>str</td><td>str</td><td>f64</td><td>str</td><td>f64</td><td>str</td><td>str</td><td>f64</td><td>f64</td><td>str</td><td>i32</td></tr></thead><tbody><tr><td>0</td><td>&quot;Mystery Matters&quot;</td><td>&quot;Episode 98&quot;</td><td>null</td><td>&quot;True Crime&quot;</td><td>74.81</td><td>&quot;Thursday&quot;</td><td>&quot;Night&quot;</td><td>null</td><td>0.0</td><td>&quot;Positive&quot;</td><td>1</td></tr><tr><td>1</td><td>&quot;Joke Junction&quot;</td><td>&quot;Episode 26&quot;</td><td>119.8</td><td>&quot;Comedy&quot;</td><td>66.95</td><td>&quot;Saturday&quot;</td><td>&quot;Afternoon&quot;</td><td>75.95</td><td>2.0</td><td>&quot;Negative&quot;</td><td>1</td></tr><tr><td>2</td><td>&quot;Study Sessions&quot;</td><td>&quot;Episode 16&quot;</td><td>73.9</td><td>&quot;Education&quot;</td><td>69.97</td><td>&quot;Tuesday&quot;</td><td>&quot;Evening&quot;</td><td>8.97</td><td>0.0</td><td>&quot;Negative&quot;</td><td>1</td></tr><tr><td>3</td><td>&quot;Digital Digest&quot;</td><td>&quot;Episode 45&quot;</td><td>67.17</td><td>&quot;Technology&quot;</td><td>57.22</td><td>&quot;Monday&quot;</td><td>&quot;Morning&quot;</td><td>78.7</td><td>2.0</td><td>&quot;Positive&quot;</td><td>1</td></tr><tr><td>4</td><td>&quot;Mind &amp; Body&quot;</td><td>&quot;Episode 86&quot;</td><td>110.51</td><td>&quot;Health&quot;</td><td>80.07</td><td>&quot;Monday&quot;</td><td>&quot;Afternoon&quot;</td><td>58.68</td><td>3.0</td><td>&quot;Neutral&quot;</td><td>1</td></tr><tr><td>&hellip;</td><td>&hellip;</td><td>&hellip;</td><td>&hellip;</td><td>&hellip;</td><td>&hellip;</td><td>&hellip;</td><td>&hellip;</td><td>&hellip;</td><td>&hellip;</td><td>&hellip;</td><td>&hellip;</td></tr><tr><td>999995</td><td>&quot;Mind &amp; Body&quot;</td><td>&quot;Episode 100&quot;</td><td>21.05</td><td>&quot;Health&quot;</td><td>65.77</td><td>&quot;Saturday&quot;</td><td>&quot;Evening&quot;</td><td>96.4</td><td>3.0</td><td>&quot;Negative&quot;</td><td>0</td></tr><tr><td>999996</td><td>&quot;Joke Junction&quot;</td><td>&quot;Episode 85&quot;</td><td>85.5</td><td>&quot;Comedy&quot;</td><td>41.47</td><td>&quot;Saturday&quot;</td><td>&quot;Night&quot;</td><td>30.52</td><td>2.0</td><td>&quot;Negative&quot;</td><td>0</td></tr><tr><td>999997</td><td>&quot;Joke Junction&quot;</td><td>&quot;Episode 63&quot;</td><td>12.11</td><td>&quot;Comedy&quot;</td><td>25.92</td><td>&quot;Thursday&quot;</td><td>&quot;Evening&quot;</td><td>73.69</td><td>1.0</td><td>&quot;Neutral&quot;</td><td>0</td></tr><tr><td>999998</td><td>&quot;Market Masters&quot;</td><td>&quot;Episode 46&quot;</td><td>113.46</td><td>&quot;Business&quot;</td><td>43.47</td><td>&quot;Friday&quot;</td><td>&quot;Night&quot;</td><td>93.59</td><td>3.0</td><td>&quot;Positive&quot;</td><td>0</td></tr><tr><td>999999</td><td>&quot;Brain Boost&quot;</td><td>&quot;Episode 46&quot;</td><td>78.05</td><td>&quot;Education&quot;</td><td>41.72</td><td>&quot;Friday&quot;</td><td>&quot;Morning&quot;</td><td>50.77</td><td>0.0</td><td>&quot;Negative&quot;</td><td>0</td></tr></tbody></table></div>"
            ]
          },
          "metadata": {},
          "execution_count": 15
        }
      ]
    },
    {
      "cell_type": "code",
      "source": [
        "train_for_episode_length = pl.concat([train_df_mark, test_df_mark], how = \"vertical\").filter(pl.col(\"Episode_Length_minutes\").is_not_null())"
      ],
      "metadata": {
        "id": "gnOgj6kxSY0s"
      },
      "execution_count": null,
      "outputs": []
    },
    {
      "cell_type": "code",
      "source": [
        "test_for_episode_length = pl.concat([train_df_mark, test_df_mark], how = \"vertical\").filter(pl.col(\"Episode_Length_minutes\").is_null())"
      ],
      "metadata": {
        "id": "BVHE_r_6T4Ce"
      },
      "execution_count": null,
      "outputs": []
    },
    {
      "cell_type": "code",
      "source": [
        "train_for_episode_length = train_for_episode_length.filter(pl.col(\"Episode_Length_minutes\") <= 121)\n",
        "\n",
        "train_for_episode_length.describe()"
      ],
      "metadata": {
        "colab": {
          "base_uri": "https://localhost:8080/",
          "height": 435
        },
        "id": "AP9ITcV1UULg",
        "outputId": "3f3e9c80-abff-46d4-af04-d60df652a874"
      },
      "execution_count": null,
      "outputs": [
        {
          "output_type": "execute_result",
          "data": {
            "text/plain": [
              "shape: (9, 13)\n",
              "┌───────────┬───────────┬───────────┬───────────┬───┬───────────┬───────────┬───────────┬──────────┐\n",
              "│ statistic ┆ id        ┆ Podcast_N ┆ Episode_T ┆ … ┆ Guest_Pop ┆ Number_of ┆ Episode_S ┆ is_train │\n",
              "│ ---       ┆ ---       ┆ ame       ┆ itle      ┆   ┆ ularity_p ┆ _Ads      ┆ entiment  ┆ ---      │\n",
              "│ str       ┆ f64       ┆ ---       ┆ ---       ┆   ┆ ercentage ┆ ---       ┆ ---       ┆ f64      │\n",
              "│           ┆           ┆ str       ┆ str       ┆   ┆ ---       ┆ f64       ┆ str       ┆          │\n",
              "│           ┆           ┆           ┆           ┆   ┆ f64       ┆           ┆           ┆          │\n",
              "╞═══════════╪═══════════╪═══════════╪═══════════╪═══╪═══════════╪═══════════╪═══════════╪══════════╡\n",
              "│ count     ┆ 884168.0  ┆ 884168    ┆ 884168    ┆ … ┆ 718881.0  ┆ 884167.0  ┆ 884168    ┆ 884168.0 │\n",
              "│ null_coun ┆ 0.0       ┆ 0         ┆ 0         ┆ … ┆ 165287.0  ┆ 1.0       ┆ 0         ┆ 0.0      │\n",
              "│ t         ┆           ┆           ┆           ┆   ┆           ┆           ┆           ┆          │\n",
              "│ mean      ┆ 500196.38 ┆ null      ┆ null      ┆ … ┆ 52.221719 ┆ 1.353397  ┆ null      ┆ 0.749751 │\n",
              "│           ┆ 0936      ┆           ┆           ┆   ┆           ┆           ┆           ┆          │\n",
              "│ std       ┆ 288688.75 ┆ null      ┆ null      ┆ … ┆ 28.510346 ┆ 2.475397  ┆ null      ┆ 0.433157 │\n",
              "│           ┆ 977       ┆           ┆           ┆   ┆           ┆           ┆           ┆          │\n",
              "│ min       ┆ 1.0       ┆ Athlete's ┆ Episode 1 ┆ … ┆ 0.0       ┆ 0.0       ┆ Negative  ┆ 0.0      │\n",
              "│           ┆           ┆ Arena     ┆           ┆   ┆           ┆           ┆           ┆          │\n",
              "│ 25%       ┆ 250187.0  ┆ null      ┆ null      ┆ … ┆ 28.24     ┆ 0.0       ┆ null      ┆ 0.0      │\n",
              "│ 50%       ┆ 500305.0  ┆ null      ┆ null      ┆ … ┆ 53.58     ┆ 1.0       ┆ null      ┆ 1.0      │\n",
              "│ 75%       ┆ 750244.0  ┆ null      ┆ null      ┆ … ┆ 76.68     ┆ 2.0       ┆ null      ┆ 1.0      │\n",
              "│ max       ┆ 9.99999e5 ┆ World     ┆ Episode   ┆ … ┆ 116.82    ┆ 2063.0    ┆ Positive  ┆ 1.0      │\n",
              "│           ┆           ┆ Watch     ┆ 99        ┆   ┆           ┆           ┆           ┆          │\n",
              "└───────────┴───────────┴───────────┴───────────┴───┴───────────┴───────────┴───────────┴──────────┘"
            ],
            "text/html": [
              "<div><style>\n",
              ".dataframe > thead > tr,\n",
              ".dataframe > tbody > tr {\n",
              "  text-align: right;\n",
              "  white-space: pre-wrap;\n",
              "}\n",
              "</style>\n",
              "<small>shape: (9, 13)</small><table border=\"1\" class=\"dataframe\"><thead><tr><th>statistic</th><th>id</th><th>Podcast_Name</th><th>Episode_Title</th><th>Episode_Length_minutes</th><th>Genre</th><th>Host_Popularity_percentage</th><th>Publication_Day</th><th>Publication_Time</th><th>Guest_Popularity_percentage</th><th>Number_of_Ads</th><th>Episode_Sentiment</th><th>is_train</th></tr><tr><td>str</td><td>f64</td><td>str</td><td>str</td><td>f64</td><td>str</td><td>f64</td><td>str</td><td>str</td><td>f64</td><td>f64</td><td>str</td><td>f64</td></tr></thead><tbody><tr><td>&quot;count&quot;</td><td>884168.0</td><td>&quot;884168&quot;</td><td>&quot;884168&quot;</td><td>884168.0</td><td>&quot;884168&quot;</td><td>884168.0</td><td>&quot;884168&quot;</td><td>&quot;884168&quot;</td><td>718881.0</td><td>884167.0</td><td>&quot;884168&quot;</td><td>884168.0</td></tr><tr><td>&quot;null_count&quot;</td><td>0.0</td><td>&quot;0&quot;</td><td>&quot;0&quot;</td><td>0.0</td><td>&quot;0&quot;</td><td>0.0</td><td>&quot;0&quot;</td><td>&quot;0&quot;</td><td>165287.0</td><td>1.0</td><td>&quot;0&quot;</td><td>0.0</td></tr><tr><td>&quot;mean&quot;</td><td>500196.380936</td><td>null</td><td>null</td><td>64.515109</td><td>null</td><td>59.838345</td><td>null</td><td>null</td><td>52.221719</td><td>1.353397</td><td>null</td><td>0.749751</td></tr><tr><td>&quot;std&quot;</td><td>288688.75977</td><td>null</td><td>null</td><td>32.964307</td><td>null</td><td>22.871944</td><td>null</td><td>null</td><td>28.510346</td><td>2.475397</td><td>null</td><td>0.433157</td></tr><tr><td>&quot;min&quot;</td><td>1.0</td><td>&quot;Athlete&#x27;s Arena&quot;</td><td>&quot;Episode 1&quot;</td><td>0.0</td><td>&quot;Business&quot;</td><td>1.3</td><td>&quot;Friday&quot;</td><td>&quot;Afternoon&quot;</td><td>0.0</td><td>0.0</td><td>&quot;Negative&quot;</td><td>0.0</td></tr><tr><td>&quot;25%&quot;</td><td>250187.0</td><td>null</td><td>null</td><td>35.74</td><td>null</td><td>39.41</td><td>null</td><td>null</td><td>28.24</td><td>0.0</td><td>null</td><td>0.0</td></tr><tr><td>&quot;50%&quot;</td><td>500305.0</td><td>null</td><td>null</td><td>63.87</td><td>null</td><td>60.05</td><td>null</td><td>null</td><td>53.58</td><td>1.0</td><td>null</td><td>1.0</td></tr><tr><td>&quot;75%&quot;</td><td>750244.0</td><td>null</td><td>null</td><td>94.08</td><td>null</td><td>79.51</td><td>null</td><td>null</td><td>76.68</td><td>2.0</td><td>null</td><td>1.0</td></tr><tr><td>&quot;max&quot;</td><td>9.99999e5</td><td>&quot;World Watch&quot;</td><td>&quot;Episode 99&quot;</td><td>120.93</td><td>&quot;True Crime&quot;</td><td>119.46</td><td>&quot;Wednesday&quot;</td><td>&quot;Night&quot;</td><td>116.82</td><td>2063.0</td><td>&quot;Positive&quot;</td><td>1.0</td></tr></tbody></table></div>"
            ]
          },
          "metadata": {},
          "execution_count": 20
        }
      ]
    },
    {
      "cell_type": "code",
      "source": [
        "!pip install ray==2.10.0\n",
        "!pip install autogluon.tabular --no-cache-dir -q\n",
        "!pip install -U ipywidgets"
      ],
      "metadata": {
        "colab": {
          "base_uri": "https://localhost:8080/"
        },
        "id": "QD3gz0oIVAkw",
        "outputId": "d7fceead-e9e6-416a-843b-67a4e2316581"
      },
      "execution_count": null,
      "outputs": [
        {
          "output_type": "stream",
          "name": "stdout",
          "text": [
            "Collecting ray==2.10.0\n",
            "  Downloading ray-2.10.0-cp311-cp311-manylinux2014_x86_64.whl.metadata (13 kB)\n",
            "Requirement already satisfied: click>=7.0 in /usr/local/lib/python3.11/dist-packages (from ray==2.10.0) (8.1.8)\n",
            "Requirement already satisfied: filelock in /usr/local/lib/python3.11/dist-packages (from ray==2.10.0) (3.18.0)\n",
            "Requirement already satisfied: jsonschema in /usr/local/lib/python3.11/dist-packages (from ray==2.10.0) (4.23.0)\n",
            "Requirement already satisfied: msgpack<2.0.0,>=1.0.0 in /usr/local/lib/python3.11/dist-packages (from ray==2.10.0) (1.1.0)\n",
            "Requirement already satisfied: packaging in /usr/local/lib/python3.11/dist-packages (from ray==2.10.0) (24.2)\n",
            "Requirement already satisfied: protobuf!=3.19.5,>=3.15.3 in /usr/local/lib/python3.11/dist-packages (from ray==2.10.0) (5.29.4)\n",
            "Requirement already satisfied: pyyaml in /usr/local/lib/python3.11/dist-packages (from ray==2.10.0) (6.0.2)\n",
            "Requirement already satisfied: aiosignal in /usr/local/lib/python3.11/dist-packages (from ray==2.10.0) (1.3.2)\n",
            "Requirement already satisfied: frozenlist in /usr/local/lib/python3.11/dist-packages (from ray==2.10.0) (1.6.0)\n",
            "Requirement already satisfied: requests in /usr/local/lib/python3.11/dist-packages (from ray==2.10.0) (2.32.3)\n",
            "Requirement already satisfied: attrs>=22.2.0 in /usr/local/lib/python3.11/dist-packages (from jsonschema->ray==2.10.0) (25.3.0)\n",
            "Requirement already satisfied: jsonschema-specifications>=2023.03.6 in /usr/local/lib/python3.11/dist-packages (from jsonschema->ray==2.10.0) (2025.4.1)\n",
            "Requirement already satisfied: referencing>=0.28.4 in /usr/local/lib/python3.11/dist-packages (from jsonschema->ray==2.10.0) (0.36.2)\n",
            "Requirement already satisfied: rpds-py>=0.7.1 in /usr/local/lib/python3.11/dist-packages (from jsonschema->ray==2.10.0) (0.24.0)\n",
            "Requirement already satisfied: charset-normalizer<4,>=2 in /usr/local/lib/python3.11/dist-packages (from requests->ray==2.10.0) (3.4.1)\n",
            "Requirement already satisfied: idna<4,>=2.5 in /usr/local/lib/python3.11/dist-packages (from requests->ray==2.10.0) (3.10)\n",
            "Requirement already satisfied: urllib3<3,>=1.21.1 in /usr/local/lib/python3.11/dist-packages (from requests->ray==2.10.0) (2.4.0)\n",
            "Requirement already satisfied: certifi>=2017.4.17 in /usr/local/lib/python3.11/dist-packages (from requests->ray==2.10.0) (2025.4.26)\n",
            "Requirement already satisfied: typing-extensions>=4.4.0 in /usr/local/lib/python3.11/dist-packages (from referencing>=0.28.4->jsonschema->ray==2.10.0) (4.13.2)\n",
            "Downloading ray-2.10.0-cp311-cp311-manylinux2014_x86_64.whl (65.6 MB)\n",
            "\u001b[2K   \u001b[90m━━━━━━━━━━━━━━━━━━━━━━━━━━━━━━━━━━━━━━━━\u001b[0m \u001b[32m65.6/65.6 MB\u001b[0m \u001b[31m9.5 MB/s\u001b[0m eta \u001b[36m0:00:00\u001b[0m\n",
            "\u001b[?25hInstalling collected packages: ray\n",
            "Successfully installed ray-2.10.0\n",
            "\u001b[2K   \u001b[90m━━━━━━━━━━━━━━━━━━━━━━━━━━━━━━━━━━━━━━━━\u001b[0m \u001b[32m382.4/382.4 kB\u001b[0m \u001b[31m20.5 MB/s\u001b[0m eta \u001b[36m0:00:00\u001b[0m\n",
            "\u001b[2K   \u001b[90m━━━━━━━━━━━━━━━━━━━━━━━━━━━━━━━━━━━━━━━\u001b[0m \u001b[32m222.7/222.7 kB\u001b[0m \u001b[31m260.3 MB/s\u001b[0m eta \u001b[36m0:00:00\u001b[0m\n",
            "\u001b[2K   \u001b[90m━━━━━━━━━━━━━━━━━━━━━━━━━━━━━━━━━━━━━━━━\u001b[0m \u001b[32m64.2/64.2 kB\u001b[0m \u001b[31m232.1 MB/s\u001b[0m eta \u001b[36m0:00:00\u001b[0m\n",
            "\u001b[2K   \u001b[90m━━━━━━━━━━━━━━━━━━━━━━━━━━━━━━━━━━━━━━━━\u001b[0m \u001b[32m69.1/69.1 kB\u001b[0m \u001b[31m205.8 MB/s\u001b[0m eta \u001b[36m0:00:00\u001b[0m\n",
            "\u001b[2K   \u001b[90m━━━━━━━━━━━━━━━━━━━━━━━━━━━━━━━━━━━━━━━\u001b[0m \u001b[32m139.9/139.9 kB\u001b[0m \u001b[31m267.7 MB/s\u001b[0m eta \u001b[36m0:00:00\u001b[0m\n",
            "\u001b[2K   \u001b[90m━━━━━━━━━━━━━━━━━━━━━━━━━━━━━━━━━━━━━━━━\u001b[0m \u001b[32m13.5/13.5 MB\u001b[0m \u001b[31m216.1 MB/s\u001b[0m eta \u001b[36m0:00:00\u001b[0m\n",
            "\u001b[2K   \u001b[90m━━━━━━━━━━━━━━━━━━━━━━━━━━━━━━━━━━━━━━━━\u001b[0m \u001b[32m84.8/84.8 kB\u001b[0m \u001b[31m225.6 MB/s\u001b[0m eta \u001b[36m0:00:00\u001b[0m\n",
            "\u001b[?25hRequirement already satisfied: ipywidgets in /usr/local/lib/python3.11/dist-packages (7.7.1)\n",
            "Collecting ipywidgets\n",
            "  Downloading ipywidgets-8.1.6-py3-none-any.whl.metadata (2.4 kB)\n",
            "Collecting comm>=0.1.3 (from ipywidgets)\n",
            "  Downloading comm-0.2.2-py3-none-any.whl.metadata (3.7 kB)\n",
            "Requirement already satisfied: ipython>=6.1.0 in /usr/local/lib/python3.11/dist-packages (from ipywidgets) (7.34.0)\n",
            "Requirement already satisfied: traitlets>=4.3.1 in /usr/local/lib/python3.11/dist-packages (from ipywidgets) (5.7.1)\n",
            "Collecting widgetsnbextension~=4.0.14 (from ipywidgets)\n",
            "  Downloading widgetsnbextension-4.0.14-py3-none-any.whl.metadata (1.6 kB)\n",
            "Requirement already satisfied: jupyterlab_widgets~=3.0.14 in /usr/local/lib/python3.11/dist-packages (from ipywidgets) (3.0.14)\n",
            "Requirement already satisfied: setuptools>=18.5 in /usr/local/lib/python3.11/dist-packages (from ipython>=6.1.0->ipywidgets) (75.2.0)\n",
            "Collecting jedi>=0.16 (from ipython>=6.1.0->ipywidgets)\n",
            "  Downloading jedi-0.19.2-py2.py3-none-any.whl.metadata (22 kB)\n",
            "Requirement already satisfied: decorator in /usr/local/lib/python3.11/dist-packages (from ipython>=6.1.0->ipywidgets) (4.4.2)\n",
            "Requirement already satisfied: pickleshare in /usr/local/lib/python3.11/dist-packages (from ipython>=6.1.0->ipywidgets) (0.7.5)\n",
            "Requirement already satisfied: prompt-toolkit!=3.0.0,!=3.0.1,<3.1.0,>=2.0.0 in /usr/local/lib/python3.11/dist-packages (from ipython>=6.1.0->ipywidgets) (3.0.51)\n",
            "Requirement already satisfied: pygments in /usr/local/lib/python3.11/dist-packages (from ipython>=6.1.0->ipywidgets) (2.19.1)\n",
            "Requirement already satisfied: backcall in /usr/local/lib/python3.11/dist-packages (from ipython>=6.1.0->ipywidgets) (0.2.0)\n",
            "Requirement already satisfied: matplotlib-inline in /usr/local/lib/python3.11/dist-packages (from ipython>=6.1.0->ipywidgets) (0.1.7)\n",
            "Requirement already satisfied: pexpect>4.3 in /usr/local/lib/python3.11/dist-packages (from ipython>=6.1.0->ipywidgets) (4.9.0)\n",
            "Requirement already satisfied: parso<0.9.0,>=0.8.4 in /usr/local/lib/python3.11/dist-packages (from jedi>=0.16->ipython>=6.1.0->ipywidgets) (0.8.4)\n",
            "Requirement already satisfied: ptyprocess>=0.5 in /usr/local/lib/python3.11/dist-packages (from pexpect>4.3->ipython>=6.1.0->ipywidgets) (0.7.0)\n",
            "Requirement already satisfied: wcwidth in /usr/local/lib/python3.11/dist-packages (from prompt-toolkit!=3.0.0,!=3.0.1,<3.1.0,>=2.0.0->ipython>=6.1.0->ipywidgets) (0.2.13)\n",
            "Downloading ipywidgets-8.1.6-py3-none-any.whl (139 kB)\n",
            "\u001b[2K   \u001b[90m━━━━━━━━━━━━━━━━━━━━━━━━━━━━━━━━━━━━━━━━\u001b[0m \u001b[32m139.8/139.8 kB\u001b[0m \u001b[31m6.7 MB/s\u001b[0m eta \u001b[36m0:00:00\u001b[0m\n",
            "\u001b[?25hDownloading comm-0.2.2-py3-none-any.whl (7.2 kB)\n",
            "Downloading widgetsnbextension-4.0.14-py3-none-any.whl (2.2 MB)\n",
            "\u001b[2K   \u001b[90m━━━━━━━━━━━━━━━━━━━━━━━━━━━━━━━━━━━━━━━━\u001b[0m \u001b[32m2.2/2.2 MB\u001b[0m \u001b[31m45.1 MB/s\u001b[0m eta \u001b[36m0:00:00\u001b[0m\n",
            "\u001b[?25hDownloading jedi-0.19.2-py2.py3-none-any.whl (1.6 MB)\n",
            "\u001b[2K   \u001b[90m━━━━━━━━━━━━━━━━━━━━━━━━━━━━━━━━━━━━━━━━\u001b[0m \u001b[32m1.6/1.6 MB\u001b[0m \u001b[31m50.8 MB/s\u001b[0m eta \u001b[36m0:00:00\u001b[0m\n",
            "\u001b[?25hInstalling collected packages: widgetsnbextension, jedi, comm, ipywidgets\n",
            "  Attempting uninstall: widgetsnbextension\n",
            "    Found existing installation: widgetsnbextension 3.6.10\n",
            "    Uninstalling widgetsnbextension-3.6.10:\n",
            "      Successfully uninstalled widgetsnbextension-3.6.10\n",
            "  Attempting uninstall: ipywidgets\n",
            "    Found existing installation: ipywidgets 7.7.1\n",
            "    Uninstalling ipywidgets-7.7.1:\n",
            "      Successfully uninstalled ipywidgets-7.7.1\n",
            "Successfully installed comm-0.2.2 ipywidgets-8.1.6 jedi-0.19.2 widgetsnbextension-4.0.14\n"
          ]
        }
      ]
    },
    {
      "cell_type": "code",
      "source": [
        "!pip install autogluon --quiet"
      ],
      "metadata": {
        "colab": {
          "base_uri": "https://localhost:8080/"
        },
        "id": "4Q6lFTv5V1rz",
        "outputId": "727f8de7-e3a9-4a18-e4c1-ebbd4db1f473"
      },
      "execution_count": null,
      "outputs": [
        {
          "output_type": "stream",
          "name": "stdout",
          "text": [
            "\u001b[?25l     \u001b[90m━━━━━━━━━━━━━━━━━━━━━━━━━━━━━━━━━━━━━━━━\u001b[0m \u001b[32m0.0/44.0 kB\u001b[0m \u001b[31m?\u001b[0m eta \u001b[36m-:--:--\u001b[0m\r\u001b[2K     \u001b[90m━━━━━━━━━━━━━━━━━━━━━━━━━━━━━━━━━━━━━━━━\u001b[0m \u001b[32m44.0/44.0 kB\u001b[0m \u001b[31m2.4 MB/s\u001b[0m eta \u001b[36m0:00:00\u001b[0m\n",
            "\u001b[?25h\u001b[?25l     \u001b[90m━━━━━━━━━━━━━━━━━━━━━━━━━━━━━━━━━━━━━━━━\u001b[0m \u001b[32m0.0/43.6 kB\u001b[0m \u001b[31m?\u001b[0m eta \u001b[36m-:--:--\u001b[0m\r\u001b[2K     \u001b[90m━━━━━━━━━━━━━━━━━━━━━━━━━━━━━━━━━━━━━━━━\u001b[0m \u001b[32m43.6/43.6 kB\u001b[0m \u001b[31m2.7 MB/s\u001b[0m eta \u001b[36m0:00:00\u001b[0m\n",
            "\u001b[?25h  Preparing metadata (setup.py) ... \u001b[?25l\u001b[?25hdone\n",
            "\u001b[2K     \u001b[90m━━━━━━━━━━━━━━━━━━━━━━━━━━━━━━━━━━━━━━━━\u001b[0m \u001b[32m43.6/43.6 kB\u001b[0m \u001b[31m2.6 MB/s\u001b[0m eta \u001b[36m0:00:00\u001b[0m\n",
            "\u001b[?25h  Preparing metadata (setup.py) ... \u001b[?25l\u001b[?25hdone\n",
            "\u001b[2K     \u001b[90m━━━━━━━━━━━━━━━━━━━━━━━━━━━━━━━━━━━━━━━\u001b[0m \u001b[32m117.0/117.0 kB\u001b[0m \u001b[31m6.8 MB/s\u001b[0m eta \u001b[36m0:00:00\u001b[0m\n",
            "\u001b[?25h  Preparing metadata (setup.py) ... \u001b[?25l\u001b[?25hdone\n",
            "\u001b[2K     \u001b[90m━━━━━━━━━━━━━━━━━━━━━━━━━━━━━━━━━━━━━━\u001b[0m \u001b[32m259.5/259.5 kB\u001b[0m \u001b[31m13.4 MB/s\u001b[0m eta \u001b[36m0:00:00\u001b[0m\n",
            "\u001b[?25h  Preparing metadata (setup.py) ... \u001b[?25l\u001b[?25hdone\n",
            "\u001b[2K   \u001b[90m━━━━━━━━━━━━━━━━━━━━━━━━━━━━━━━━━━━━━━━━\u001b[0m \u001b[32m454.5/454.5 kB\u001b[0m \u001b[31m19.2 MB/s\u001b[0m eta \u001b[36m0:00:00\u001b[0m\n",
            "\u001b[2K   \u001b[90m━━━━━━━━━━━━━━━━━━━━━━━━━━━━━━━━━━━━━━━━\u001b[0m \u001b[32m181.2/181.2 kB\u001b[0m \u001b[31m10.6 MB/s\u001b[0m eta \u001b[36m0:00:00\u001b[0m\n",
            "\u001b[2K   \u001b[90m━━━━━━━━━━━━━━━━━━━━━━━━━━━━━━━━━━━━━━━━\u001b[0m \u001b[32m99.2/99.2 MB\u001b[0m \u001b[31m6.0 MB/s\u001b[0m eta \u001b[36m0:00:00\u001b[0m\n",
            "\u001b[2K   \u001b[90m━━━━━━━━━━━━━━━━━━━━━━━━━━━━━━━━━━━━━━━━\u001b[0m \u001b[32m275.8/275.8 kB\u001b[0m \u001b[31m15.2 MB/s\u001b[0m eta \u001b[36m0:00:00\u001b[0m\n",
            "\u001b[2K   \u001b[90m━━━━━━━━━━━━━━━━━━━━━━━━━━━━━━━━━━━━━━━━\u001b[0m \u001b[32m84.0/84.0 kB\u001b[0m \u001b[31m5.8 MB/s\u001b[0m eta \u001b[36m0:00:00\u001b[0m\n",
            "\u001b[2K   \u001b[90m━━━━━━━━━━━━━━━━━━━━━━━━━━━━━━━━━━━━━━━━\u001b[0m \u001b[32m278.2/278.2 kB\u001b[0m \u001b[31m17.2 MB/s\u001b[0m eta \u001b[36m0:00:00\u001b[0m\n",
            "\u001b[2K   \u001b[90m━━━━━━━━━━━━━━━━━━━━━━━━━━━━━━━━━━━━━━━━\u001b[0m \u001b[32m1.5/1.5 MB\u001b[0m \u001b[31m44.2 MB/s\u001b[0m eta \u001b[36m0:00:00\u001b[0m\n",
            "\u001b[2K   \u001b[90m━━━━━━━━━━━━━━━━━━━━━━━━━━━━━━━━━━━━━━━━\u001b[0m \u001b[32m819.0/819.0 kB\u001b[0m \u001b[31m36.5 MB/s\u001b[0m eta \u001b[36m0:00:00\u001b[0m\n",
            "\u001b[2K   \u001b[90m━━━━━━━━━━━━━━━━━━━━━━━━━━━━━━━━━━━━━━━━\u001b[0m \u001b[32m71.4/71.4 kB\u001b[0m \u001b[31m4.8 MB/s\u001b[0m eta \u001b[36m0:00:00\u001b[0m\n",
            "\u001b[2K   \u001b[90m━━━━━━━━━━━━━━━━━━━━━━━━━━━━━━━━━━━━━━━━\u001b[0m \u001b[32m410.5/410.5 kB\u001b[0m \u001b[31m21.8 MB/s\u001b[0m eta \u001b[36m0:00:00\u001b[0m\n",
            "\u001b[2K   \u001b[90m━━━━━━━━━━━━━━━━━━━━━━━━━━━━━━━━━━━━━━━━\u001b[0m \u001b[32m79.5/79.5 kB\u001b[0m \u001b[31m5.0 MB/s\u001b[0m eta \u001b[36m0:00:00\u001b[0m\n",
            "\u001b[2K   \u001b[90m━━━━━━━━━━━━━━━━━━━━━━━━━━━━━━━━━━━━━━━━\u001b[0m \u001b[32m52.7/52.7 kB\u001b[0m \u001b[31m3.1 MB/s\u001b[0m eta \u001b[36m0:00:00\u001b[0m\n",
            "\u001b[2K   \u001b[90m━━━━━━━━━━━━━━━━━━━━━━━━━━━━━━━━━━━━━━━━\u001b[0m \u001b[32m125.9/125.9 kB\u001b[0m \u001b[31m9.3 MB/s\u001b[0m eta \u001b[36m0:00:00\u001b[0m\n",
            "\u001b[2K   \u001b[90m━━━━━━━━━━━━━━━━━━━━━━━━━━━━━━━━━━━━━━━━\u001b[0m \u001b[32m354.4/354.4 kB\u001b[0m \u001b[31m21.7 MB/s\u001b[0m eta \u001b[36m0:00:00\u001b[0m\n",
            "\u001b[2K   \u001b[90m━━━━━━━━━━━━━━━━━━━━━━━━━━━━━━━━━━━━━━━━\u001b[0m \u001b[32m2.3/2.3 MB\u001b[0m \u001b[31m73.5 MB/s\u001b[0m eta \u001b[36m0:00:00\u001b[0m\n",
            "\u001b[2K   \u001b[90m━━━━━━━━━━━━━━━━━━━━━━━━━━━━━━━━━━━━━━━━\u001b[0m \u001b[32m363.4/363.4 MB\u001b[0m \u001b[31m1.6 MB/s\u001b[0m eta \u001b[36m0:00:00\u001b[0m\n",
            "\u001b[2K   \u001b[90m━━━━━━━━━━━━━━━━━━━━━━━━━━━━━━━━━━━━━━━━\u001b[0m \u001b[32m13.8/13.8 MB\u001b[0m \u001b[31m65.3 MB/s\u001b[0m eta \u001b[36m0:00:00\u001b[0m\n",
            "\u001b[2K   \u001b[90m━━━━━━━━━━━━━━━━━━━━━━━━━━━━━━━━━━━━━━━━\u001b[0m \u001b[32m24.6/24.6 MB\u001b[0m \u001b[31m54.3 MB/s\u001b[0m eta \u001b[36m0:00:00\u001b[0m\n",
            "\u001b[2K   \u001b[90m━━━━━━━━━━━━━━━━━━━━━━━━━━━━━━━━━━━━━━━━\u001b[0m \u001b[32m883.7/883.7 kB\u001b[0m \u001b[31m35.7 MB/s\u001b[0m eta \u001b[36m0:00:00\u001b[0m\n",
            "\u001b[2K   \u001b[90m━━━━━━━━━━━━━━━━━━━━━━━━━━━━━━━━━━━━━━━━\u001b[0m \u001b[32m664.8/664.8 MB\u001b[0m \u001b[31m1.2 MB/s\u001b[0m eta \u001b[36m0:00:00\u001b[0m\n",
            "\u001b[2K   \u001b[90m━━━━━━━━━━━━━━━━━━━━━━━━━━━━━━━━━━━━━━━━\u001b[0m \u001b[32m211.5/211.5 MB\u001b[0m \u001b[31m6.0 MB/s\u001b[0m eta \u001b[36m0:00:00\u001b[0m\n",
            "\u001b[2K   \u001b[90m━━━━━━━━━━━━━━━━━━━━━━━━━━━━━━━━━━━━━━━━\u001b[0m \u001b[32m56.3/56.3 MB\u001b[0m \u001b[31m12.1 MB/s\u001b[0m eta \u001b[36m0:00:00\u001b[0m\n",
            "\u001b[2K   \u001b[90m━━━━━━━━━━━━━━━━━━━━━━━━━━━━━━━━━━━━━━━━\u001b[0m \u001b[32m127.9/127.9 MB\u001b[0m \u001b[31m7.5 MB/s\u001b[0m eta \u001b[36m0:00:00\u001b[0m\n",
            "\u001b[2K   \u001b[90m━━━━━━━━━━━━━━━━━━━━━━━━━━━━━━━━━━━━━━━━\u001b[0m \u001b[32m207.5/207.5 MB\u001b[0m \u001b[31m6.1 MB/s\u001b[0m eta \u001b[36m0:00:00\u001b[0m\n",
            "\u001b[2K   \u001b[90m━━━━━━━━━━━━━━━━━━━━━━━━━━━━━━━━━━━━━━━━\u001b[0m \u001b[32m21.1/21.1 MB\u001b[0m \u001b[31m32.7 MB/s\u001b[0m eta \u001b[36m0:00:00\u001b[0m\n",
            "\u001b[2K   \u001b[90m━━━━━━━━━━━━━━━━━━━━━━━━━━━━━━━━━━━━━━━━\u001b[0m \u001b[32m961.5/961.5 kB\u001b[0m \u001b[31m40.1 MB/s\u001b[0m eta \u001b[36m0:00:00\u001b[0m\n",
            "\u001b[2K   \u001b[90m━━━━━━━━━━━━━━━━━━━━━━━━━━━━━━━━━━━━━━━━\u001b[0m \u001b[32m10.0/10.0 MB\u001b[0m \u001b[31m98.6 MB/s\u001b[0m eta \u001b[36m0:00:00\u001b[0m\n",
            "\u001b[2K   \u001b[90m━━━━━━━━━━━━━━━━━━━━━━━━━━━━━━━━━━━━━━━━\u001b[0m \u001b[32m41.7/41.7 kB\u001b[0m \u001b[31m2.6 MB/s\u001b[0m eta \u001b[36m0:00:00\u001b[0m\n",
            "\u001b[2K   \u001b[90m━━━━━━━━━━━━━━━━━━━━━━━━━━━━━━━━━━━━━━━━\u001b[0m \u001b[32m823.1/823.1 kB\u001b[0m \u001b[31m42.2 MB/s\u001b[0m eta \u001b[36m0:00:00\u001b[0m\n",
            "\u001b[2K   \u001b[90m━━━━━━━━━━━━━━━━━━━━━━━━━━━━━━━━━━━━━━━━\u001b[0m \u001b[32m491.4/491.4 kB\u001b[0m \u001b[31m31.1 MB/s\u001b[0m eta \u001b[36m0:00:00\u001b[0m\n",
            "\u001b[2K   \u001b[90m━━━━━━━━━━━━━━━━━━━━━━━━━━━━━━━━━━━━━━━━\u001b[0m \u001b[32m116.3/116.3 kB\u001b[0m \u001b[31m8.3 MB/s\u001b[0m eta \u001b[36m0:00:00\u001b[0m\n",
            "\u001b[2K   \u001b[90m━━━━━━━━━━━━━━━━━━━━━━━━━━━━━━━━━━━━━━━━\u001b[0m \u001b[32m193.6/193.6 kB\u001b[0m \u001b[31m12.9 MB/s\u001b[0m eta \u001b[36m0:00:00\u001b[0m\n",
            "\u001b[2K   \u001b[90m━━━━━━━━━━━━━━━━━━━━━━━━━━━━━━━━━━━━━━━━\u001b[0m \u001b[32m143.5/143.5 kB\u001b[0m \u001b[31m10.0 MB/s\u001b[0m eta \u001b[36m0:00:00\u001b[0m\n",
            "\u001b[2K   \u001b[90m━━━━━━━━━━━━━━━━━━━━━━━━━━━━━━━━━━━━━━━━\u001b[0m \u001b[32m2.7/2.7 MB\u001b[0m \u001b[31m73.7 MB/s\u001b[0m eta \u001b[36m0:00:00\u001b[0m\n",
            "\u001b[2K   \u001b[90m━━━━━━━━━━━━━━━━━━━━━━━━━━━━━━━━━━━━━━━━\u001b[0m \u001b[32m101.7/101.7 kB\u001b[0m \u001b[31m7.0 MB/s\u001b[0m eta \u001b[36m0:00:00\u001b[0m\n",
            "\u001b[2K   \u001b[90m━━━━━━━━━━━━━━━━━━━━━━━━━━━━━━━━━━━━━━━━\u001b[0m \u001b[32m62.3/62.3 kB\u001b[0m \u001b[31m3.5 MB/s\u001b[0m eta \u001b[36m0:00:00\u001b[0m\n",
            "\u001b[2K   \u001b[90m━━━━━━━━━━━━━━━━━━━━━━━━━━━━━━━━━━━━━━━━\u001b[0m \u001b[32m4.3/4.3 MB\u001b[0m \u001b[31m81.1 MB/s\u001b[0m eta \u001b[36m0:00:00\u001b[0m\n",
            "\u001b[2K   \u001b[90m━━━━━━━━━━━━━━━━━━━━━━━━━━━━━━━━━━━━━━━━\u001b[0m \u001b[32m201.4/201.4 kB\u001b[0m \u001b[31m13.5 MB/s\u001b[0m eta \u001b[36m0:00:00\u001b[0m\n",
            "\u001b[2K   \u001b[90m━━━━━━━━━━━━━━━━━━━━━━━━━━━━━━━━━━━━━━━━\u001b[0m \u001b[32m128.2/128.2 kB\u001b[0m \u001b[31m8.3 MB/s\u001b[0m eta \u001b[36m0:00:00\u001b[0m\n",
            "\u001b[2K   \u001b[90m━━━━━━━━━━━━━━━━━━━━━━━━━━━━━━━━━━━━━━━━\u001b[0m \u001b[32m386.6/386.6 kB\u001b[0m \u001b[31m19.2 MB/s\u001b[0m eta \u001b[36m0:00:00\u001b[0m\n",
            "\u001b[2K   \u001b[90m━━━━━━━━━━━━━━━━━━━━━━━━━━━━━━━━━━━━━━━━\u001b[0m \u001b[32m194.8/194.8 kB\u001b[0m \u001b[31m10.7 MB/s\u001b[0m eta \u001b[36m0:00:00\u001b[0m\n",
            "\u001b[2K   \u001b[90m━━━━━━━━━━━━━━━━━━━━━━━━━━━━━━━━━━━━━━━━\u001b[0m \u001b[32m231.9/231.9 kB\u001b[0m \u001b[31m15.5 MB/s\u001b[0m eta \u001b[36m0:00:00\u001b[0m\n",
            "\u001b[2K   \u001b[90m━━━━━━━━━━━━━━━━━━━━━━━━━━━━━━━━━━━━━━━━\u001b[0m \u001b[32m469.0/469.0 kB\u001b[0m \u001b[31m28.3 MB/s\u001b[0m eta \u001b[36m0:00:00\u001b[0m\n",
            "\u001b[2K   \u001b[90m━━━━━━━━━━━━━━━━━━━━━━━━━━━━━━━━━━━━━━━━\u001b[0m \u001b[32m135.3/135.3 kB\u001b[0m \u001b[31m8.8 MB/s\u001b[0m eta \u001b[36m0:00:00\u001b[0m\n",
            "\u001b[2K   \u001b[90m━━━━━━━━━━━━━━━━━━━━━━━━━━━━━━━━━━━━━━━━\u001b[0m \u001b[32m55.3/55.3 kB\u001b[0m \u001b[31m3.2 MB/s\u001b[0m eta \u001b[36m0:00:00\u001b[0m\n",
            "\u001b[2K   \u001b[90m━━━━━━━━━━━━━━━━━━━━━━━━━━━━━━━━━━━━━━━━\u001b[0m \u001b[32m2.3/2.3 MB\u001b[0m \u001b[31m62.9 MB/s\u001b[0m eta \u001b[36m0:00:00\u001b[0m\n",
            "\u001b[?25h  Building wheel for nvidia-ml-py3 (setup.py) ... \u001b[?25l\u001b[?25hdone\n",
            "  Building wheel for antlr4-python3-runtime (setup.py) ... \u001b[?25l\u001b[?25hdone\n",
            "  Building wheel for seqeval (setup.py) ... \u001b[?25l\u001b[?25hdone\n",
            "\u001b[31mERROR: pip's dependency resolver does not currently take into account all the packages that are installed. This behaviour is the source of the following dependency conflicts.\n",
            "gcsfs 2025.3.2 requires fsspec==2025.3.2, but you have fsspec 2025.3.0 which is incompatible.\u001b[0m\u001b[31m\n",
            "\u001b[0m"
          ]
        }
      ]
    },
    {
      "cell_type": "code",
      "source": [
        "from autogluon.tabular import TabularPredictor\n",
        "import polars as pl"
      ],
      "metadata": {
        "id": "rShC3g8pYhjN"
      },
      "execution_count": null,
      "outputs": []
    },
    {
      "cell_type": "code",
      "source": [
        "train_data = train_for_episode_length.to_pandas()"
      ],
      "metadata": {
        "id": "aLlKsliQbg8g"
      },
      "execution_count": null,
      "outputs": []
    },
    {
      "cell_type": "code",
      "source": [
        "CALC_EPISODE = True\n",
        "CALC_EPISODE = True\n",
        "\n",
        "episode_predictor = TabularPredictor(\n",
        "    path = '/content/drive/MyDrive/dataset/Podcast_predict/Autogluon_Episode_Predictor',\n",
        "    label=\"Episode_Length_minutes\",\n",
        "    problem_type = 'regression',\n",
        "    eval_metric = 'root_mean_squared_error',\n",
        "    verbosity = 2,\n",
        "    learner_kwargs = {\n",
        "        'ignored_columns': [\n",
        "            'id',\n",
        "            ]\n",
        "    })\n",
        "\n",
        "if CALC_EPISODE:\n",
        "  episode_predictor.fit(\n",
        "      train_data=train_data,\n",
        "      presets = 'high_quality',\n",
        "      time_limit = 3600)\n"
      ],
      "metadata": {
        "colab": {
          "base_uri": "https://localhost:8080/"
        },
        "id": "lrc2xIwfbktj",
        "outputId": "d11d07fd-38be-48f8-cbbf-70a834b58fd7"
      },
      "execution_count": null,
      "outputs": [
        {
          "output_type": "stream",
          "name": "stderr",
          "text": [
            "Verbosity: 2 (Standard Logging)\n",
            "=================== System Info ===================\n",
            "AutoGluon Version:  1.3.0\n",
            "Python Version:     3.11.12\n",
            "Operating System:   Linux\n",
            "Platform Machine:   x86_64\n",
            "Platform Version:   #1 SMP PREEMPT_DYNAMIC Sun Mar 30 16:01:29 UTC 2025\n",
            "CPU Count:          2\n",
            "Memory Avail:       7.29 GB / 12.67 GB (57.5%)\n",
            "Disk Space Avail:   12.36 GB / 15.00 GB (82.4%)\n",
            "===================================================\n",
            "Presets specified: ['high_quality']\n",
            "Setting dynamic_stacking from 'auto' to True. Reason: Enable dynamic_stacking when use_bag_holdout is disabled. (use_bag_holdout=False)\n",
            "Stack configuration (auto_stack=True): num_stack_levels=1, num_bag_folds=8, num_bag_sets=1\n",
            "Note: `save_bag_folds=False`! This will greatly reduce peak disk usage during fit (by ~8x), but runs the risk of an out-of-memory error during model refit if memory is small relative to the data size.\n",
            "\tYou can avoid this risk by setting `save_bag_folds=True`.\n",
            "DyStack is enabled (dynamic_stacking=True). AutoGluon will try to determine whether the input data is affected by stacked overfitting and enable or disable stacking as a consequence.\n",
            "\tThis is used to identify the optimal `num_stack_levels` value. Copies of AutoGluon will be fit on subsets of the data. Then holdout validation data is used to detect stacked overfitting.\n",
            "\tRunning DyStack for up to 900s of the 3600s of remaining time (25%).\n",
            "\tRunning DyStack sub-fit in a ray process to avoid memory leakage. Enabling ray logging (enable_ray_logging=True). Specify `ds_args={'enable_ray_logging': False}` if you experience logging issues.\n",
            "2025-05-03 04:44:03,916\tINFO worker.py:1743 -- Started a local Ray instance. View the dashboard at \u001b[1m\u001b[32mhttp://127.0.0.1:8265 \u001b[39m\u001b[22m\n",
            "\t\tContext path: \"/content/drive/MyDrive/dataset/Podcast_predict/Autogluon_Episode_Predictor/ds_sub_fit/sub_fit_ho\"\n",
            "\u001b[36m(_dystack pid=17429)\u001b[0m Running DyStack sub-fit ...\n",
            "\u001b[36m(_dystack pid=17429)\u001b[0m Beginning AutoGluon training ... Time limit = 889s\n",
            "\u001b[36m(_dystack pid=17429)\u001b[0m AutoGluon will save models to \"/content/drive/MyDrive/dataset/Podcast_predict/Autogluon_Episode_Predictor/ds_sub_fit/sub_fit_ho\"\n",
            "\u001b[36m(_dystack pid=17429)\u001b[0m Train Data Rows:    785927\n",
            "\u001b[36m(_dystack pid=17429)\u001b[0m Train Data Columns: 11\n",
            "\u001b[36m(_dystack pid=17429)\u001b[0m Label Column:       Episode_Length_minutes\n",
            "\u001b[36m(_dystack pid=17429)\u001b[0m Problem Type:       regression\n",
            "\u001b[36m(_dystack pid=17429)\u001b[0m Preprocessing data ...\n",
            "\u001b[36m(_dystack pid=17429)\u001b[0m Using Feature Generators to preprocess the data ...\n",
            "\u001b[36m(_dystack pid=17429)\u001b[0m Dropping user-specified ignored columns: ['id']\n",
            "\u001b[36m(_dystack pid=17429)\u001b[0m Fitting AutoMLPipelineFeatureGenerator...\n",
            "\u001b[36m(_dystack pid=17429)\u001b[0m \tAvailable Memory:                    10430.07 MB\n",
            "\u001b[36m(_dystack pid=17429)\u001b[0m \tTrain Data (Original)  Memory Usage: 316.17 MB (3.0% of available memory)\n",
            "\u001b[36m(_dystack pid=17429)\u001b[0m \tInferring data type of each feature based on column values. Set feature_metadata_in to manually specify special dtypes of the features.\n",
            "\u001b[36m(_dystack pid=17429)\u001b[0m \tStage 1 Generators:\n",
            "\u001b[36m(_dystack pid=17429)\u001b[0m \t\tFitting AsTypeFeatureGenerator...\n",
            "\u001b[36m(_dystack pid=17429)\u001b[0m \t\t\tNote: Converting 1 features to boolean dtype as they only contain 2 unique values.\n",
            "\u001b[36m(_dystack pid=17429)\u001b[0m \tStage 2 Generators:\n",
            "\u001b[36m(_dystack pid=17429)\u001b[0m \t\tFitting FillNaFeatureGenerator...\n",
            "\u001b[36m(_dystack pid=17429)\u001b[0m \tStage 3 Generators:\n",
            "\u001b[36m(_dystack pid=17429)\u001b[0m \t\tFitting IdentityFeatureGenerator...\n",
            "\u001b[36m(_dystack pid=17429)\u001b[0m \t\tFitting CategoryFeatureGenerator...\n",
            "\u001b[36m(_dystack pid=17429)\u001b[0m \t\t\tFitting CategoryMemoryMinimizeFeatureGenerator...\n",
            "\u001b[36m(_dystack pid=17429)\u001b[0m \tStage 4 Generators:\n",
            "\u001b[36m(_dystack pid=17429)\u001b[0m \t\tFitting DropUniqueFeatureGenerator...\n",
            "\u001b[36m(_dystack pid=17429)\u001b[0m \tStage 5 Generators:\n",
            "\u001b[36m(_dystack pid=17429)\u001b[0m \t\tFitting DropDuplicatesFeatureGenerator...\n",
            "\u001b[36m(_dystack pid=17429)\u001b[0m \tTypes of features in original data (raw dtype, special dtypes):\n",
            "\u001b[36m(_dystack pid=17429)\u001b[0m \t\t('float', [])  : 3 | ['Host_Popularity_percentage', 'Guest_Popularity_percentage', 'Number_of_Ads']\n",
            "\u001b[36m(_dystack pid=17429)\u001b[0m \t\t('int', [])    : 1 | ['is_train']\n",
            "\u001b[36m(_dystack pid=17429)\u001b[0m \t\t('object', []) : 6 | ['Podcast_Name', 'Episode_Title', 'Genre', 'Publication_Day', 'Publication_Time', ...]\n",
            "\u001b[36m(_dystack pid=17429)\u001b[0m \tTypes of features in processed data (raw dtype, special dtypes):\n",
            "\u001b[36m(_dystack pid=17429)\u001b[0m \t\t('category', [])  : 6 | ['Podcast_Name', 'Episode_Title', 'Genre', 'Publication_Day', 'Publication_Time', ...]\n",
            "\u001b[36m(_dystack pid=17429)\u001b[0m \t\t('float', [])     : 3 | ['Host_Popularity_percentage', 'Guest_Popularity_percentage', 'Number_of_Ads']\n",
            "\u001b[36m(_dystack pid=17429)\u001b[0m \t\t('int', ['bool']) : 1 | ['is_train']\n",
            "\u001b[36m(_dystack pid=17429)\u001b[0m \t4.2s = Fit runtime\n",
            "\u001b[36m(_dystack pid=17429)\u001b[0m \t10 features in original data used to generate 10 features in processed data.\n",
            "\u001b[36m(_dystack pid=17429)\u001b[0m \tTrain Data (Processed) Memory Usage: 23.24 MB (0.2% of available memory)\n",
            "\u001b[36m(_dystack pid=17429)\u001b[0m Data preprocessing and feature engineering runtime = 4.54s ...\n",
            "\u001b[36m(_dystack pid=17429)\u001b[0m AutoGluon will gauge predictive performance using evaluation metric: 'root_mean_squared_error'\n",
            "\u001b[36m(_dystack pid=17429)\u001b[0m \tThis metric's sign has been flipped to adhere to being higher_is_better. The metric score can be multiplied by -1 to get the metric value.\n",
            "\u001b[36m(_dystack pid=17429)\u001b[0m \tTo change this, specify the eval_metric parameter of Predictor()\n",
            "\u001b[36m(_dystack pid=17429)\u001b[0m Large model count detected (112 configs) ... Only displaying the first 3 models of each family. To see all, set `verbosity=3`.\n",
            "\u001b[36m(_dystack pid=17429)\u001b[0m User-specified model hyperparameters to be fit:\n",
            "\u001b[36m(_dystack pid=17429)\u001b[0m {\n",
            "\u001b[36m(_dystack pid=17429)\u001b[0m \t'NN_TORCH': [{}, {'activation': 'elu', 'dropout_prob': 0.10077639529843717, 'hidden_size': 108, 'learning_rate': 0.002735937344002146, 'num_layers': 4, 'use_batchnorm': True, 'weight_decay': 1.356433327634438e-12, 'ag_args': {'name_suffix': '_r79', 'priority': -2}}, {'activation': 'elu', 'dropout_prob': 0.11897478034205347, 'hidden_size': 213, 'learning_rate': 0.0010474382260641949, 'num_layers': 4, 'use_batchnorm': False, 'weight_decay': 5.594471067786272e-10, 'ag_args': {'name_suffix': '_r22', 'priority': -7}}],\n",
            "\u001b[36m(_dystack pid=17429)\u001b[0m \t'GBM': [{'extra_trees': True, 'ag_args': {'name_suffix': 'XT'}}, {}, {'learning_rate': 0.03, 'num_leaves': 128, 'feature_fraction': 0.9, 'min_data_in_leaf': 3, 'ag_args': {'name_suffix': 'Large', 'priority': 0, 'hyperparameter_tune_kwargs': None}}],\n",
            "\u001b[36m(_dystack pid=17429)\u001b[0m \t'CAT': [{}, {'depth': 6, 'grow_policy': 'SymmetricTree', 'l2_leaf_reg': 2.1542798306067823, 'learning_rate': 0.06864209415792857, 'max_ctr_complexity': 4, 'one_hot_max_size': 10, 'ag_args': {'name_suffix': '_r177', 'priority': -1}}, {'depth': 8, 'grow_policy': 'Depthwise', 'l2_leaf_reg': 2.7997999596449104, 'learning_rate': 0.031375015734637225, 'max_ctr_complexity': 2, 'one_hot_max_size': 3, 'ag_args': {'name_suffix': '_r9', 'priority': -5}}],\n",
            "\u001b[36m(_dystack pid=17429)\u001b[0m \t'XGB': [{}, {'colsample_bytree': 0.6917311125174739, 'enable_categorical': False, 'learning_rate': 0.018063876087523967, 'max_depth': 10, 'min_child_weight': 0.6028633586934382, 'ag_args': {'name_suffix': '_r33', 'priority': -8}}, {'colsample_bytree': 0.6628423832084077, 'enable_categorical': False, 'learning_rate': 0.08775715546881824, 'max_depth': 5, 'min_child_weight': 0.6294123374222513, 'ag_args': {'name_suffix': '_r89', 'priority': -16}}],\n",
            "\u001b[36m(_dystack pid=17429)\u001b[0m \t'FASTAI': [{}, {'bs': 256, 'emb_drop': 0.5411770367537934, 'epochs': 43, 'layers': [800, 400], 'lr': 0.01519848858318159, 'ps': 0.23782946566604385, 'ag_args': {'name_suffix': '_r191', 'priority': -4}}, {'bs': 2048, 'emb_drop': 0.05070411322605811, 'epochs': 29, 'layers': [200, 100], 'lr': 0.08974235041576624, 'ps': 0.10393466140748028, 'ag_args': {'name_suffix': '_r102', 'priority': -11}}],\n",
            "\u001b[36m(_dystack pid=17429)\u001b[0m \t'RF': [{'criterion': 'gini', 'ag_args': {'name_suffix': 'Gini', 'problem_types': ['binary', 'multiclass']}}, {'criterion': 'entropy', 'ag_args': {'name_suffix': 'Entr', 'problem_types': ['binary', 'multiclass']}}, {'criterion': 'squared_error', 'ag_args': {'name_suffix': 'MSE', 'problem_types': ['regression', 'quantile']}}],\n",
            "\u001b[36m(_dystack pid=17429)\u001b[0m \t'XT': [{'criterion': 'gini', 'ag_args': {'name_suffix': 'Gini', 'problem_types': ['binary', 'multiclass']}}, {'criterion': 'entropy', 'ag_args': {'name_suffix': 'Entr', 'problem_types': ['binary', 'multiclass']}}, {'criterion': 'squared_error', 'ag_args': {'name_suffix': 'MSE', 'problem_types': ['regression', 'quantile']}}],\n",
            "\u001b[36m(_dystack pid=17429)\u001b[0m \t'KNN': [{'weights': 'uniform', 'ag_args': {'name_suffix': 'Unif'}}, {'weights': 'distance', 'ag_args': {'name_suffix': 'Dist'}}],\n",
            "\u001b[36m(_dystack pid=17429)\u001b[0m }\n",
            "\u001b[36m(_dystack pid=17429)\u001b[0m AutoGluon will fit 2 stack levels (L1 to L2) ...\n",
            "\u001b[36m(_dystack pid=17429)\u001b[0m Fitting 108 L1 models, fit_strategy=\"sequential\" ...\n",
            "\u001b[36m(_dystack pid=17429)\u001b[0m Fitting model: KNeighborsUnif_BAG_L1 ... Training model for up to 589.37s of the 884.26s of remaining time.\n",
            "\u001b[36m(_dystack pid=17429)\u001b[0m \t-34.9484\t = Validation score   (-root_mean_squared_error)\n",
            "\u001b[36m(_dystack pid=17429)\u001b[0m \t2.67s\t = Training   runtime\n",
            "\u001b[36m(_dystack pid=17429)\u001b[0m \t18.57s\t = Validation runtime\n",
            "\u001b[36m(_dystack pid=17429)\u001b[0m Fitting model: KNeighborsDist_BAG_L1 ... Training model for up to 561.04s of the 855.94s of remaining time.\n",
            "\u001b[36m(_dystack pid=17429)\u001b[0m \t-35.3393\t = Validation score   (-root_mean_squared_error)\n",
            "\u001b[36m(_dystack pid=17429)\u001b[0m \t2.05s\t = Training   runtime\n",
            "\u001b[36m(_dystack pid=17429)\u001b[0m \t17.71s\t = Validation runtime\n",
            "\u001b[36m(_dystack pid=17429)\u001b[0m Fitting model: LightGBMXT_BAG_L1 ... Training model for up to 540.91s of the 835.81s of remaining time.\n",
            "\u001b[36m(_dystack pid=17429)\u001b[0m \tFitting 8 child models (S1F1 - S1F8) | Fitting with ParallelLocalFoldFittingStrategy (2 workers, per: cpus=1, gpus=0, memory=1.99%)\n"
          ]
        },
        {
          "output_type": "stream",
          "name": "stdout",
          "text": [
            "\u001b[36m(_ray_fit pid=17903)\u001b[0m [1000]\tvalid_set's rmse: 32.4963\n",
            "\u001b[36m(_ray_fit pid=17904)\u001b[0m [1000]\tvalid_set's rmse: 32.3874\n"
          ]
        },
        {
          "output_type": "stream",
          "name": "stderr",
          "text": [
            "\u001b[36m(_ray_fit pid=17904)\u001b[0m \tRan out of time, early stopping on iteration 1013. Best iteration is:\n",
            "\u001b[36m(_ray_fit pid=17904)\u001b[0m \t[1013]\tvalid_set's rmse: 32.3852\n"
          ]
        },
        {
          "output_type": "stream",
          "name": "stdout",
          "text": [
            "\u001b[36m(_ray_fit pid=18547)\u001b[0m [1000]\tvalid_set's rmse: 32.3606\n",
            "\u001b[36m(_ray_fit pid=18580)\u001b[0m [1000]\tvalid_set's rmse: 32.4532\n"
          ]
        },
        {
          "output_type": "stream",
          "name": "stderr",
          "text": [
            "\u001b[36m(_ray_fit pid=18547)\u001b[0m \tRan out of time, early stopping on iteration 1239. Best iteration is:\u001b[32m [repeated 2x across cluster] (Ray deduplicates logs by default. Set RAY_DEDUP_LOGS=0 to disable log deduplication, or see https://docs.ray.io/en/master/ray-observability/ray-logging.html#log-deduplication for more options.)\u001b[0m\n",
            "\u001b[36m(_ray_fit pid=18547)\u001b[0m \t[1239]\tvalid_set's rmse: 32.3476\u001b[32m [repeated 2x across cluster]\u001b[0m\n"
          ]
        },
        {
          "output_type": "stream",
          "name": "stdout",
          "text": [
            "\u001b[36m(_ray_fit pid=19181)\u001b[0m [1000]\tvalid_set's rmse: 32.4784\n"
          ]
        },
        {
          "output_type": "stream",
          "name": "stderr",
          "text": [
            "\u001b[36m(_ray_fit pid=19181)\u001b[0m \tRan out of time, early stopping on iteration 1162. Best iteration is:\u001b[32m [repeated 2x across cluster]\u001b[0m\n",
            "\u001b[36m(_ray_fit pid=19181)\u001b[0m \t[1162]\tvalid_set's rmse: 32.4687\u001b[32m [repeated 2x across cluster]\u001b[0m\n"
          ]
        },
        {
          "output_type": "stream",
          "name": "stdout",
          "text": [
            "\u001b[36m(_ray_fit pid=19823)\u001b[0m [1000]\tvalid_set's rmse: 32.5034\u001b[32m [repeated 2x across cluster]\u001b[0m\n"
          ]
        },
        {
          "output_type": "stream",
          "name": "stderr",
          "text": [
            "\u001b[36m(_ray_fit pid=19823)\u001b[0m \tRan out of time, early stopping on iteration 1032. Best iteration is:\u001b[32m [repeated 2x across cluster]\u001b[0m\n",
            "\u001b[36m(_ray_fit pid=19823)\u001b[0m \t[1030]\tvalid_set's rmse: 32.5002\u001b[32m [repeated 2x across cluster]\u001b[0m\n",
            "\u001b[36m(_ray_fit pid=19870)\u001b[0m \tRan out of time, early stopping on iteration 1096. Best iteration is:\n",
            "\u001b[36m(_ray_fit pid=19870)\u001b[0m \t[1095]\tvalid_set's rmse: 32.4785\n",
            "\u001b[36m(_dystack pid=17429)\u001b[0m \t-32.4396\t = Validation score   (-root_mean_squared_error)\n",
            "\u001b[36m(_dystack pid=17429)\u001b[0m \t551.85s\t = Training   runtime\n",
            "\u001b[36m(_dystack pid=17429)\u001b[0m \t201.43s\t = Validation runtime\n",
            "\u001b[36m(_dystack pid=17429)\u001b[0m Fitting model: WeightedEnsemble_L2 ... Training model for up to 360.00s of the 253.26s of remaining time.\n",
            "\u001b[36m(_dystack pid=17429)\u001b[0m \tEnsemble Weights: {'LightGBMXT_BAG_L1': 0.765, 'KNeighborsDist_BAG_L1': 0.235}\n",
            "\u001b[36m(_dystack pid=17429)\u001b[0m \t-32.1197\t = Validation score   (-root_mean_squared_error)\n",
            "\u001b[36m(_dystack pid=17429)\u001b[0m \t1.53s\t = Training   runtime\n",
            "\u001b[36m(_dystack pid=17429)\u001b[0m \t0.02s\t = Validation runtime\n",
            "\u001b[36m(_dystack pid=17429)\u001b[0m Fitting 106 L2 models, fit_strategy=\"sequential\" ...\n",
            "\u001b[36m(_dystack pid=17429)\u001b[0m Fitting model: LightGBMXT_BAG_L2 ... Training model for up to 251.39s of the 251.23s of remaining time.\n",
            "\u001b[36m(_dystack pid=17429)\u001b[0m \tFitting 8 child models (S1F1 - S1F8) | Fitting with ParallelLocalFoldFittingStrategy (2 workers, per: cpus=1, gpus=0, memory=2.58%)\n",
            "\u001b[36m(_ray_fit pid=20566)\u001b[0m \tRan out of time, early stopping on iteration 438. Best iteration is:\n",
            "\u001b[36m(_ray_fit pid=20566)\u001b[0m \t[346]\tvalid_set's rmse: 31.9361\n",
            "\u001b[36m(_ray_fit pid=20874)\u001b[0m \tRan out of time, early stopping on iteration 384. Best iteration is:\u001b[32m [repeated 2x across cluster]\u001b[0m\n",
            "\u001b[36m(_ray_fit pid=20874)\u001b[0m \t[364]\tvalid_set's rmse: 31.9178\u001b[32m [repeated 2x across cluster]\u001b[0m\n",
            "\u001b[36m(_ray_fit pid=21154)\u001b[0m \tRan out of time, early stopping on iteration 425. Best iteration is:\n",
            "\u001b[36m(_ray_fit pid=21154)\u001b[0m \t[319]\tvalid_set's rmse: 31.9032\n",
            "\u001b[36m(_ray_fit pid=21469)\u001b[0m \tRan out of time, early stopping on iteration 434. Best iteration is:\n",
            "\u001b[36m(_ray_fit pid=21469)\u001b[0m \t[403]\tvalid_set's rmse: 31.912\n",
            "\u001b[36m(_dystack pid=17429)\u001b[0m \t-31.9075\t = Validation score   (-root_mean_squared_error)\n",
            "\u001b[36m(_dystack pid=17429)\u001b[0m \t236.69s\t = Training   runtime\n",
            "\u001b[36m(_dystack pid=17429)\u001b[0m \t43.67s\t = Validation runtime\n",
            "\u001b[36m(_dystack pid=17429)\u001b[0m Fitting model: WeightedEnsemble_L3 ... Training model for up to 360.00s of the 1.73s of remaining time.\n",
            "\u001b[36m(_dystack pid=17429)\u001b[0m \tEnsemble Weights: {'LightGBMXT_BAG_L2': 1.0}\n",
            "\u001b[36m(_dystack pid=17429)\u001b[0m \t-31.9075\t = Validation score   (-root_mean_squared_error)\n",
            "\u001b[36m(_dystack pid=17429)\u001b[0m \t0.85s\t = Training   runtime\n",
            "\u001b[36m(_dystack pid=17429)\u001b[0m \t0.01s\t = Validation runtime\n",
            "\u001b[36m(_dystack pid=17429)\u001b[0m AutoGluon training complete, total runtime = 888.26s ... Best model: WeightedEnsemble_L3 | Estimated inference throughput: 393.5 rows/s (98241 batch size)\n",
            "\u001b[36m(_dystack pid=17429)\u001b[0m Automatically performing refit_full as a post-fit operation (due to `.fit(..., refit_full=True)`\n",
            "\u001b[36m(_dystack pid=17429)\u001b[0m Refitting models via `predictor.refit_full` using all of the data (combined train and validation)...\n",
            "\u001b[36m(_dystack pid=17429)\u001b[0m \tModels trained in this way will have the suffix \"_FULL\" and have NaN validation score.\n",
            "\u001b[36m(_dystack pid=17429)\u001b[0m \tThis process is not bound by time_limit, but should take less time than the original `predictor.fit` call.\n",
            "\u001b[36m(_dystack pid=17429)\u001b[0m \tTo learn more, refer to the `.refit_full` method docstring which explains how \"_FULL\" models differ from normal models.\n",
            "\u001b[36m(_dystack pid=17429)\u001b[0m Fitting model: KNeighborsUnif_BAG_L1_FULL | Skipping fit via cloning parent ...\n",
            "\u001b[36m(_dystack pid=17429)\u001b[0m \t2.67s\t = Training   runtime\n",
            "\u001b[36m(_dystack pid=17429)\u001b[0m \t18.57s\t = Validation runtime\n",
            "\u001b[36m(_dystack pid=17429)\u001b[0m Fitting model: KNeighborsDist_BAG_L1_FULL | Skipping fit via cloning parent ...\n",
            "\u001b[36m(_dystack pid=17429)\u001b[0m \t2.05s\t = Training   runtime\n",
            "\u001b[36m(_dystack pid=17429)\u001b[0m \t17.71s\t = Validation runtime\n",
            "\u001b[36m(_dystack pid=17429)\u001b[0m Fitting 1 L1 models, fit_strategy=\"sequential\" ...\n",
            "\u001b[36m(_dystack pid=17429)\u001b[0m Fitting model: LightGBMXT_BAG_L1_FULL ...\n",
            "\u001b[36m(_dystack pid=17429)\u001b[0m \t77.08s\t = Training   runtime\n",
            "\u001b[36m(_dystack pid=17429)\u001b[0m Fitting model: WeightedEnsemble_L2_FULL | Skipping fit via cloning parent ...\n",
            "\u001b[36m(_dystack pid=17429)\u001b[0m \tEnsemble Weights: {'LightGBMXT_BAG_L1': 0.765, 'KNeighborsDist_BAG_L1': 0.235}\n",
            "\u001b[36m(_dystack pid=17429)\u001b[0m \t1.53s\t = Training   runtime\n",
            "\u001b[36m(_dystack pid=17429)\u001b[0m Fitting 1 L2 models, fit_strategy=\"sequential\" ...\n",
            "\u001b[36m(_dystack pid=17429)\u001b[0m Fitting model: LightGBMXT_BAG_L2_FULL ...\n",
            "\u001b[36m(_dystack pid=17429)\u001b[0m \t26.39s\t = Training   runtime\n",
            "\u001b[36m(_dystack pid=17429)\u001b[0m Fitting model: WeightedEnsemble_L3_FULL | Skipping fit via cloning parent ...\n",
            "\u001b[36m(_dystack pid=17429)\u001b[0m \tEnsemble Weights: {'LightGBMXT_BAG_L2': 1.0}\n",
            "\u001b[36m(_dystack pid=17429)\u001b[0m \t0.85s\t = Training   runtime\n",
            "\u001b[36m(_dystack pid=17429)\u001b[0m Updated best model to \"LightGBMXT_BAG_L2_FULL\" (Previously \"WeightedEnsemble_L3\"). AutoGluon will default to using \"LightGBMXT_BAG_L2_FULL\" for predict() and predict_proba().\n",
            "\u001b[36m(_dystack pid=17429)\u001b[0m Refit complete, total runtime = 105.34s ... Best model: \"LightGBMXT_BAG_L2_FULL\"\n",
            "\u001b[36m(_dystack pid=17429)\u001b[0m TabularPredictor saved. To load, use: predictor = TabularPredictor.load(\"/content/drive/MyDrive/dataset/Podcast_predict/Autogluon_Episode_Predictor/ds_sub_fit/sub_fit_ho\")\n",
            "\u001b[36m(_dystack pid=17429)\u001b[0m Deleting DyStack predictor artifacts (clean_up_fits=True) ...\n",
            "Leaderboard on holdout data (DyStack):\n",
            "                        model  score_holdout  score_val              eval_metric  pred_time_test  pred_time_val    fit_time  pred_time_test_marginal  pred_time_val_marginal  fit_time_marginal  stack_level  can_infer  fit_order\n",
            "0      LightGBMXT_BAG_L2_FULL     -31.895710 -31.907478  root_mean_squared_error       21.839720            NaN  108.198771                 2.547721                     NaN          26.394070            2       True          5\n",
            "1    WeightedEnsemble_L3_FULL     -31.895710 -31.907478  root_mean_squared_error       21.847819            NaN  109.052982                 0.008099                     NaN           0.854212            3       True          6\n",
            "2    WeightedEnsemble_L2_FULL     -32.116509 -32.119670  root_mean_squared_error       17.346024            NaN   80.665376                 0.008388                     NaN           1.531956            2       True          4\n",
            "3      LightGBMXT_BAG_L1_FULL     -32.431604 -32.439580  root_mean_squared_error       15.255092            NaN   77.078622                15.255092                     NaN          77.078622            1       True          3\n",
            "4  KNeighborsUnif_BAG_L1_FULL     -34.939827 -34.948420  root_mean_squared_error        1.954363      18.567770    2.671281                 1.954363               18.567770           2.671281            1       True          1\n",
            "5  KNeighborsDist_BAG_L1_FULL     -35.330956 -35.339273  root_mean_squared_error        2.082544      17.710099    2.054798                 2.082544               17.710099           2.054798            1       True          2\n",
            "\t1\t = Optimal   num_stack_levels (Stacked Overfitting Occurred: False)\n",
            "\t1033s\t = DyStack   runtime |\t2567s\t = Remaining runtime\n",
            "Starting main fit with num_stack_levels=1.\n",
            "\tFor future fit calls on this dataset, you can skip DyStack to save time: `predictor.fit(..., dynamic_stacking=False, num_stack_levels=1)`\n",
            "Beginning AutoGluon training ... Time limit = 2567s\n",
            "AutoGluon will save models to \"/content/drive/MyDrive/dataset/Podcast_predict/Autogluon_Episode_Predictor\"\n",
            "Train Data Rows:    884168\n",
            "Train Data Columns: 11\n",
            "Label Column:       Episode_Length_minutes\n",
            "Problem Type:       regression\n",
            "Preprocessing data ...\n",
            "Using Feature Generators to preprocess the data ...\n",
            "Dropping user-specified ignored columns: ['id']\n",
            "Fitting AutoMLPipelineFeatureGenerator...\n",
            "\tAvailable Memory:                    10046.50 MB\n",
            "\tTrain Data (Original)  Memory Usage: 355.68 MB (3.5% of available memory)\n",
            "\tInferring data type of each feature based on column values. Set feature_metadata_in to manually specify special dtypes of the features.\n",
            "\tStage 1 Generators:\n",
            "\t\tFitting AsTypeFeatureGenerator...\n",
            "\t\t\tNote: Converting 1 features to boolean dtype as they only contain 2 unique values.\n",
            "\tStage 2 Generators:\n",
            "\t\tFitting FillNaFeatureGenerator...\n",
            "\tStage 3 Generators:\n",
            "\t\tFitting IdentityFeatureGenerator...\n",
            "\t\tFitting CategoryFeatureGenerator...\n",
            "\t\t\tFitting CategoryMemoryMinimizeFeatureGenerator...\n",
            "\tStage 4 Generators:\n",
            "\t\tFitting DropUniqueFeatureGenerator...\n",
            "\tStage 5 Generators:\n",
            "\t\tFitting DropDuplicatesFeatureGenerator...\n",
            "\tTypes of features in original data (raw dtype, special dtypes):\n",
            "\t\t('float', [])  : 3 | ['Host_Popularity_percentage', 'Guest_Popularity_percentage', 'Number_of_Ads']\n",
            "\t\t('int', [])    : 1 | ['is_train']\n",
            "\t\t('object', []) : 6 | ['Podcast_Name', 'Episode_Title', 'Genre', 'Publication_Day', 'Publication_Time', ...]\n",
            "\tTypes of features in processed data (raw dtype, special dtypes):\n",
            "\t\t('category', [])  : 6 | ['Podcast_Name', 'Episode_Title', 'Genre', 'Publication_Day', 'Publication_Time', ...]\n",
            "\t\t('float', [])     : 3 | ['Host_Popularity_percentage', 'Guest_Popularity_percentage', 'Number_of_Ads']\n",
            "\t\t('int', ['bool']) : 1 | ['is_train']\n",
            "\t6.8s = Fit runtime\n",
            "\t10 features in original data used to generate 10 features in processed data.\n",
            "\tTrain Data (Processed) Memory Usage: 26.14 MB (0.3% of available memory)\n",
            "Data preprocessing and feature engineering runtime = 7.3s ...\n",
            "AutoGluon will gauge predictive performance using evaluation metric: 'root_mean_squared_error'\n",
            "\tThis metric's sign has been flipped to adhere to being higher_is_better. The metric score can be multiplied by -1 to get the metric value.\n",
            "\tTo change this, specify the eval_metric parameter of Predictor()\n",
            "Large model count detected (112 configs) ... Only displaying the first 3 models of each family. To see all, set `verbosity=3`.\n",
            "User-specified model hyperparameters to be fit:\n",
            "{\n",
            "\t'NN_TORCH': [{}, {'activation': 'elu', 'dropout_prob': 0.10077639529843717, 'hidden_size': 108, 'learning_rate': 0.002735937344002146, 'num_layers': 4, 'use_batchnorm': True, 'weight_decay': 1.356433327634438e-12, 'ag_args': {'name_suffix': '_r79', 'priority': -2}}, {'activation': 'elu', 'dropout_prob': 0.11897478034205347, 'hidden_size': 213, 'learning_rate': 0.0010474382260641949, 'num_layers': 4, 'use_batchnorm': False, 'weight_decay': 5.594471067786272e-10, 'ag_args': {'name_suffix': '_r22', 'priority': -7}}],\n",
            "\t'GBM': [{'extra_trees': True, 'ag_args': {'name_suffix': 'XT'}}, {}, {'learning_rate': 0.03, 'num_leaves': 128, 'feature_fraction': 0.9, 'min_data_in_leaf': 3, 'ag_args': {'name_suffix': 'Large', 'priority': 0, 'hyperparameter_tune_kwargs': None}}],\n",
            "\t'CAT': [{}, {'depth': 6, 'grow_policy': 'SymmetricTree', 'l2_leaf_reg': 2.1542798306067823, 'learning_rate': 0.06864209415792857, 'max_ctr_complexity': 4, 'one_hot_max_size': 10, 'ag_args': {'name_suffix': '_r177', 'priority': -1}}, {'depth': 8, 'grow_policy': 'Depthwise', 'l2_leaf_reg': 2.7997999596449104, 'learning_rate': 0.031375015734637225, 'max_ctr_complexity': 2, 'one_hot_max_size': 3, 'ag_args': {'name_suffix': '_r9', 'priority': -5}}],\n",
            "\t'XGB': [{}, {'colsample_bytree': 0.6917311125174739, 'enable_categorical': False, 'learning_rate': 0.018063876087523967, 'max_depth': 10, 'min_child_weight': 0.6028633586934382, 'ag_args': {'name_suffix': '_r33', 'priority': -8}}, {'colsample_bytree': 0.6628423832084077, 'enable_categorical': False, 'learning_rate': 0.08775715546881824, 'max_depth': 5, 'min_child_weight': 0.6294123374222513, 'ag_args': {'name_suffix': '_r89', 'priority': -16}}],\n",
            "\t'FASTAI': [{}, {'bs': 256, 'emb_drop': 0.5411770367537934, 'epochs': 43, 'layers': [800, 400], 'lr': 0.01519848858318159, 'ps': 0.23782946566604385, 'ag_args': {'name_suffix': '_r191', 'priority': -4}}, {'bs': 2048, 'emb_drop': 0.05070411322605811, 'epochs': 29, 'layers': [200, 100], 'lr': 0.08974235041576624, 'ps': 0.10393466140748028, 'ag_args': {'name_suffix': '_r102', 'priority': -11}}],\n",
            "\t'RF': [{'criterion': 'gini', 'ag_args': {'name_suffix': 'Gini', 'problem_types': ['binary', 'multiclass']}}, {'criterion': 'entropy', 'ag_args': {'name_suffix': 'Entr', 'problem_types': ['binary', 'multiclass']}}, {'criterion': 'squared_error', 'ag_args': {'name_suffix': 'MSE', 'problem_types': ['regression', 'quantile']}}],\n",
            "\t'XT': [{'criterion': 'gini', 'ag_args': {'name_suffix': 'Gini', 'problem_types': ['binary', 'multiclass']}}, {'criterion': 'entropy', 'ag_args': {'name_suffix': 'Entr', 'problem_types': ['binary', 'multiclass']}}, {'criterion': 'squared_error', 'ag_args': {'name_suffix': 'MSE', 'problem_types': ['regression', 'quantile']}}],\n",
            "\t'KNN': [{'weights': 'uniform', 'ag_args': {'name_suffix': 'Unif'}}, {'weights': 'distance', 'ag_args': {'name_suffix': 'Dist'}}],\n",
            "}\n",
            "AutoGluon will fit 2 stack levels (L1 to L2) ...\n",
            "Fitting 108 L1 models, fit_strategy=\"sequential\" ...\n",
            "Fitting model: KNeighborsUnif_BAG_L1 ... Training model for up to 1706.34s of the 2560.13s of remaining time.\n",
            "\t-34.8936\t = Validation score   (-root_mean_squared_error)\n",
            "\t2.46s\t = Training   runtime\n",
            "\t23.81s\t = Validation runtime\n",
            "Fitting model: KNeighborsDist_BAG_L1 ... Training model for up to 1677.21s of the 2531.01s of remaining time.\n",
            "\t-35.2303\t = Validation score   (-root_mean_squared_error)\n",
            "\t2.5s\t = Training   runtime\n",
            "\t22.05s\t = Validation runtime\n",
            "Fitting model: LightGBMXT_BAG_L1 ... Training model for up to 1652.22s of the 2506.01s of remaining time.\n",
            "\tFitting 8 child models (S1F1 - S1F8) | Fitting with ParallelLocalFoldFittingStrategy (2 workers, per: cpus=1, gpus=0, memory=1.75%)\n",
            "\t-32.3499\t = Validation score   (-root_mean_squared_error)\n",
            "\t1636.17s\t = Training   runtime\n",
            "\t733.68s\t = Validation runtime\n",
            "Fitting model: WeightedEnsemble_L2 ... Training model for up to 360.00s of the 771.18s of remaining time.\n",
            "\tEnsemble Weights: {'LightGBMXT_BAG_L1': 0.76, 'KNeighborsDist_BAG_L1': 0.24}\n",
            "\t-32.0008\t = Validation score   (-root_mean_squared_error)\n",
            "\t1.43s\t = Training   runtime\n",
            "\t0.04s\t = Validation runtime\n",
            "Fitting 106 L2 models, fit_strategy=\"sequential\" ...\n",
            "Fitting model: LightGBMXT_BAG_L2 ... Training model for up to 769.09s of the 768.67s of remaining time.\n",
            "\tFitting 8 child models (S1F1 - S1F8) | Fitting with ParallelLocalFoldFittingStrategy (2 workers, per: cpus=1, gpus=0, memory=4.87%)\n",
            "\t-31.7835\t = Validation score   (-root_mean_squared_error)\n",
            "\t315.21s\t = Training   runtime\n",
            "\t49.52s\t = Validation runtime\n",
            "Fitting model: LightGBM_BAG_L2 ... Training model for up to 441.22s of the 440.80s of remaining time.\n",
            "\tFitting 8 child models (S1F1 - S1F8) | Fitting with ParallelLocalFoldFittingStrategy (2 workers, per: cpus=1, gpus=0, memory=2.50%)\n",
            "\t-31.7443\t = Validation score   (-root_mean_squared_error)\n",
            "\t221.75s\t = Training   runtime\n",
            "\t25.55s\t = Validation runtime\n",
            "Fitting model: RandomForestMSE_BAG_L2 ... Training model for up to 210.81s of the 210.40s of remaining time.\n",
            "\tWarning: Model is expected to require 4677.7s to train, which exceeds the maximum time limit of 210.2s, skipping model...\n",
            "\tTime limit exceeded... Skipping RandomForestMSE_BAG_L2.\n",
            "Fitting model: CatBoost_BAG_L2 ... Training model for up to 147.14s of the 146.72s of remaining time.\n",
            "\tFitting 8 child models (S1F1 - S1F8) | Fitting with ParallelLocalFoldFittingStrategy (2 workers, per: cpus=1, gpus=0, memory=6.37%)\n",
            "\t-32.4383\t = Validation score   (-root_mean_squared_error)\n",
            "\t119.96s\t = Training   runtime\n",
            "\t0.52s\t = Validation runtime\n",
            "Fitting model: ExtraTreesMSE_BAG_L2 ... Training model for up to 22.52s of the 22.10s of remaining time.\n",
            "\tWarning: Model is expected to require 990.6s to train, which exceeds the maximum time limit of 21.7s, skipping model...\n",
            "\tTime limit exceeded... Skipping ExtraTreesMSE_BAG_L2.\n",
            "Fitting model: WeightedEnsemble_L3 ... Training model for up to 360.00s of the 6.28s of remaining time.\n",
            "\tEnsemble Weights: {'LightGBM_BAG_L2': 0.818, 'LightGBMXT_BAG_L2': 0.182}\n",
            "\t-31.7422\t = Validation score   (-root_mean_squared_error)\n",
            "\t1.5s\t = Training   runtime\n",
            "\t0.02s\t = Validation runtime\n",
            "AutoGluon training complete, total runtime = 2563.04s ... Best model: WeightedEnsemble_L3 | Estimated inference throughput: 135.7 rows/s (110521 batch size)\n",
            "Automatically performing refit_full as a post-fit operation (due to `.fit(..., refit_full=True)`\n",
            "Refitting models via `predictor.refit_full` using all of the data (combined train and validation)...\n",
            "\tModels trained in this way will have the suffix \"_FULL\" and have NaN validation score.\n",
            "\tThis process is not bound by time_limit, but should take less time than the original `predictor.fit` call.\n",
            "\tTo learn more, refer to the `.refit_full` method docstring which explains how \"_FULL\" models differ from normal models.\n",
            "Fitting model: KNeighborsUnif_BAG_L1_FULL | Skipping fit via cloning parent ...\n",
            "\t2.46s\t = Training   runtime\n",
            "\t23.81s\t = Validation runtime\n",
            "Fitting model: KNeighborsDist_BAG_L1_FULL | Skipping fit via cloning parent ...\n",
            "\t2.5s\t = Training   runtime\n",
            "\t22.05s\t = Validation runtime\n",
            "Fitting 1 L1 models, fit_strategy=\"sequential\" ...\n",
            "Fitting model: LightGBMXT_BAG_L1_FULL ...\n",
            "\t189.9s\t = Training   runtime\n",
            "Fitting model: WeightedEnsemble_L2_FULL | Skipping fit via cloning parent ...\n",
            "\tEnsemble Weights: {'LightGBMXT_BAG_L1': 0.76, 'KNeighborsDist_BAG_L1': 0.24}\n",
            "\t1.43s\t = Training   runtime\n",
            "Fitting 1 L2 models, fit_strategy=\"sequential\" ...\n",
            "Fitting model: LightGBMXT_BAG_L2_FULL ...\n",
            "\t30.21s\t = Training   runtime\n",
            "Fitting 1 L2 models, fit_strategy=\"sequential\" ...\n",
            "Fitting model: LightGBM_BAG_L2_FULL ...\n",
            "\t20.46s\t = Training   runtime\n",
            "Fitting 1 L2 models, fit_strategy=\"sequential\" ...\n",
            "Fitting model: CatBoost_BAG_L2_FULL ...\n",
            "\t4.61s\t = Training   runtime\n",
            "Fitting model: WeightedEnsemble_L3_FULL | Skipping fit via cloning parent ...\n",
            "\tEnsemble Weights: {'LightGBM_BAG_L2': 0.818, 'LightGBMXT_BAG_L2': 0.182}\n",
            "\t1.5s\t = Training   runtime\n",
            "Updated best model to \"WeightedEnsemble_L3_FULL\" (Previously \"WeightedEnsemble_L3\"). AutoGluon will default to using \"WeightedEnsemble_L3_FULL\" for predict() and predict_proba().\n",
            "Refit complete, total runtime = 249.24s ... Best model: \"WeightedEnsemble_L3_FULL\"\n",
            "TabularPredictor saved. To load, use: predictor = TabularPredictor.load(\"/content/drive/MyDrive/dataset/Podcast_predict/Autogluon_Episode_Predictor\")\n"
          ]
        }
      ]
    },
    {
      "cell_type": "code",
      "source": [],
      "metadata": {
        "id": "TMGSvSqMzFo4"
      },
      "execution_count": null,
      "outputs": []
    }
  ]
}